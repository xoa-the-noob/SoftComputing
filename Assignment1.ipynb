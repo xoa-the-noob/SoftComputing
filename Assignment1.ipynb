{
  "nbformat": 4,
  "nbformat_minor": 0,
  "metadata": {
    "colab": {
      "name": "Assignment1.ipynb",
      "provenance": [],
      "collapsed_sections": [
        "gWZyYmS_UE_L",
        "1E0Q3aoKUCRX",
        "cKWAkFVGUU0Z",
        "N6bQ0UgSU-NJ",
        "vHol938cW8zd",
        "RE_FcHyfV3TQ",
        "-zfEzkRVXIwF",
        "KvdeScabXtlB",
        "rP6urV6SX7kS",
        "BELWAc_8YJze",
        "OyNEe6RXYcU4",
        "JT4u2S1_Y4WG",
        "q_TcBX2_Ot_U"
      ]
    },
    "kernelspec": {
      "name": "python3",
      "display_name": "Python 3"
    },
    "accelerator": "TPU"
  },
  "cells": [
    {
      "cell_type": "markdown",
      "metadata": {
        "id": "lP6JLo1tGNBg"
      },
      "source": [
        "# Assignment - 1"
      ]
    },
    {
      "cell_type": "markdown",
      "metadata": {
        "id": "gWZyYmS_UE_L"
      },
      "source": [
        "### Importing the libraries"
      ]
    },
    {
      "cell_type": "code",
      "metadata": {
        "id": "MxkJoQBkUIHC"
      },
      "source": [
        "import numpy as np\n",
        "import pandas as pd\n",
        "import tensorflow as tf\n",
        "import matplotlib.pyplot as plt"
      ],
      "execution_count": null,
      "outputs": []
    },
    {
      "cell_type": "code",
      "source": [
        "df0 = pd.read_csv('firmware.csv', delimiter = ',')"
      ],
      "metadata": {
        "id": "CEkoATQr_kei"
      },
      "execution_count": null,
      "outputs": []
    },
    {
      "cell_type": "markdown",
      "metadata": {
        "id": "1E0Q3aoKUCRX"
      },
      "source": [
        "## Data Preprocessing"
      ]
    },
    {
      "cell_type": "markdown",
      "metadata": {
        "id": "cKWAkFVGUU0Z"
      },
      "source": [
        "### Importing the dataset"
      ]
    },
    {
      "cell_type": "code",
      "metadata": {
        "id": "MXUkhkMfU4wq"
      },
      "source": [
        "dataset = df0[['filename','class']]\n",
        "X = dataset.iloc[:, 0].values\n",
        "y = dataset.iloc[:, 1].values"
      ],
      "execution_count": null,
      "outputs": []
    },
    {
      "cell_type": "markdown",
      "metadata": {
        "id": "N6bQ0UgSU-NJ"
      },
      "source": [
        "### Encoding categorical data"
      ]
    },
    {
      "cell_type": "code",
      "source": [
        "X = pd.get_dummies(X)\n",
        "y = pd.get_dummies(y)"
      ],
      "metadata": {
        "id": "7oubSctcO4pi"
      },
      "execution_count": null,
      "outputs": []
    },
    {
      "cell_type": "markdown",
      "metadata": {
        "id": "vHol938cW8zd"
      },
      "source": [
        "### Splitting the dataset into the Training set and Test set"
      ]
    },
    {
      "cell_type": "code",
      "metadata": {
        "id": "Z-TDt0Y_XEfc"
      },
      "source": [
        "from sklearn.model_selection import train_test_split\n",
        "X_train, X_test, y_train, y_test = train_test_split(X, y, test_size = 0.2, random_state = 0)"
      ],
      "execution_count": null,
      "outputs": []
    },
    {
      "cell_type": "markdown",
      "metadata": {
        "id": "RE_FcHyfV3TQ"
      },
      "source": [
        "### Feature Scaling"
      ]
    },
    {
      "cell_type": "code",
      "metadata": {
        "id": "ViCrE00rV8Sk"
      },
      "source": [
        "from sklearn.preprocessing import StandardScaler\n",
        "sc = StandardScaler()\n",
        "X_train = sc.fit_transform(X_train)\n",
        "X_test = sc.transform(X_test)\n",
        "y_train = sc.fit_transform(y_train)\n",
        "y_test = sc.fit_transform(y_test)"
      ],
      "execution_count": null,
      "outputs": []
    },
    {
      "cell_type": "code",
      "source": [
        "X_train = np.expand_dims(X_train, axis=2)"
      ],
      "metadata": {
        "id": "aJnPmjvqJEaB"
      },
      "execution_count": null,
      "outputs": []
    },
    {
      "cell_type": "code",
      "source": [
        "X_train.shape"
      ],
      "metadata": {
        "colab": {
          "base_uri": "https://localhost:8080/"
        },
        "id": "5dEuHlHOWnRV",
        "outputId": "74cd23e0-bb43-4585-e0c4-6e4cdcafc4b0"
      },
      "execution_count": null,
      "outputs": [
        {
          "output_type": "execute_result",
          "data": {
            "text/plain": [
              "(2146, 2683, 1)"
            ]
          },
          "metadata": {},
          "execution_count": 40
        }
      ]
    },
    {
      "cell_type": "code",
      "source": [
        "y_train.shape"
      ],
      "metadata": {
        "colab": {
          "base_uri": "https://localhost:8080/"
        },
        "id": "ygQDEv3QY87J",
        "outputId": "5b2cefb6-b294-4e5f-8249-416cef032056"
      },
      "execution_count": null,
      "outputs": [
        {
          "output_type": "execute_result",
          "data": {
            "text/plain": [
              "(2146, 3)"
            ]
          },
          "metadata": {},
          "execution_count": 41
        }
      ]
    },
    {
      "cell_type": "code",
      "source": [
        "X_test.shape"
      ],
      "metadata": {
        "colab": {
          "base_uri": "https://localhost:8080/"
        },
        "id": "gLcu4yu1Y-yV",
        "outputId": "bb60395e-aff2-40b8-c817-8c00caae67df"
      },
      "execution_count": null,
      "outputs": [
        {
          "output_type": "execute_result",
          "data": {
            "text/plain": [
              "(537, 2683)"
            ]
          },
          "metadata": {},
          "execution_count": 42
        }
      ]
    },
    {
      "cell_type": "code",
      "source": [
        "y_test.shape"
      ],
      "metadata": {
        "colab": {
          "base_uri": "https://localhost:8080/"
        },
        "id": "wb-ahdjrZCmP",
        "outputId": "554767f5-0385-49bc-bcb5-d21e9f5d42e6"
      },
      "execution_count": null,
      "outputs": [
        {
          "output_type": "execute_result",
          "data": {
            "text/plain": [
              "(537, 3)"
            ]
          },
          "metadata": {},
          "execution_count": 43
        }
      ]
    },
    {
      "cell_type": "markdown",
      "metadata": {
        "id": "-zfEzkRVXIwF"
      },
      "source": [
        "## Experiment 1 - Building the ANN"
      ]
    },
    {
      "cell_type": "markdown",
      "metadata": {
        "id": "KvdeScabXtlB"
      },
      "source": [
        "### Initializing the ANN"
      ]
    },
    {
      "cell_type": "code",
      "metadata": {
        "id": "3dtrScHxXQox"
      },
      "source": [
        "ann = tf.keras.models.Sequential()"
      ],
      "execution_count": null,
      "outputs": []
    },
    {
      "cell_type": "markdown",
      "metadata": {
        "id": "rP6urV6SX7kS"
      },
      "source": [
        "### Adding the input layer"
      ]
    },
    {
      "cell_type": "code",
      "metadata": {
        "id": "bppGycBXYCQr"
      },
      "source": [
        "ann.add(tf.keras.layers.Dense(units=100, activation='linear'))"
      ],
      "execution_count": null,
      "outputs": []
    },
    {
      "cell_type": "markdown",
      "metadata": {
        "id": "BELWAc_8YJze"
      },
      "source": [
        "### Adding the hidden layers"
      ]
    },
    {
      "cell_type": "code",
      "metadata": {
        "id": "JneR0u0sYRTd"
      },
      "source": [
        "ann.add(tf.keras.layers.Dense(units=100, activation='linear'))"
      ],
      "execution_count": null,
      "outputs": []
    },
    {
      "cell_type": "code",
      "source": [
        "ann.add(tf.keras.layers.Dense(units=100, activation='linear'))"
      ],
      "metadata": {
        "id": "6i2z8ufMEAdK"
      },
      "execution_count": null,
      "outputs": []
    },
    {
      "cell_type": "code",
      "source": [
        "ann.add(tf.keras.layers.Dense(units=100, activation='linear'))"
      ],
      "metadata": {
        "id": "mmQV56UVEBFW"
      },
      "execution_count": null,
      "outputs": []
    },
    {
      "cell_type": "markdown",
      "metadata": {
        "id": "OyNEe6RXYcU4"
      },
      "source": [
        "### Adding the output layer"
      ]
    },
    {
      "cell_type": "code",
      "metadata": {
        "id": "Cn3x41RBYfvY"
      },
      "source": [
        "ann.add(tf.keras.layers.Dense(units=3, activation='linear'))"
      ],
      "execution_count": null,
      "outputs": []
    },
    {
      "cell_type": "markdown",
      "metadata": {
        "id": "JT4u2S1_Y4WG"
      },
      "source": [
        "### Training the ANN"
      ]
    },
    {
      "cell_type": "code",
      "source": [
        "from keras import backend as K\n",
        "K.set_value(ann.optimizer.learning_rate, 0.001)"
      ],
      "metadata": {
        "id": "sqCfmipTOTcx"
      },
      "execution_count": null,
      "outputs": []
    },
    {
      "cell_type": "code",
      "metadata": {
        "id": "fG3RrwDXZEaS"
      },
      "source": [
        "ann.compile(optimizer = 'SGD', loss = 'binary_crossentropy', metrics = ['accuracy'])"
      ],
      "execution_count": null,
      "outputs": []
    },
    {
      "cell_type": "code",
      "metadata": {
        "id": "nHZ-LKv_ZRb3"
      },
      "source": [
        "history = ann.fit(X_train, y_train, batch_size = 20, epochs = 10)"
      ],
      "execution_count": null,
      "outputs": []
    },
    {
      "cell_type": "markdown",
      "source": [
        "### Visualizing performance"
      ],
      "metadata": {
        "id": "q_TcBX2_Ot_U"
      }
    },
    {
      "cell_type": "code",
      "source": [
        "# list all data in history\n",
        "print(history.history.keys())\n",
        "# summarize history for accuracy\n",
        "plt.plot(history.history['accuracy'])\n",
        "plt.title('model accuracy')\n",
        "plt.ylabel('accuracy')\n",
        "plt.xlabel('epoch')\n",
        "plt.legend(['train', 'test'], loc='upper left')\n",
        "plt.show()\n",
        "# summarize history for loss\n",
        "plt.plot(history.history['loss'])\n",
        "plt.title('model loss')\n",
        "plt.ylabel('loss')\n",
        "plt.xlabel('epoch')\n",
        "plt.legend(['train', 'test'], loc='upper left')\n",
        "plt.show()"
      ],
      "metadata": {
        "id": "n-FirwCsRU_A"
      },
      "execution_count": null,
      "outputs": []
    },
    {
      "cell_type": "markdown",
      "source": [
        "### Predicting results\n"
      ],
      "metadata": {
        "id": "4bXPaT-VNuoM"
      }
    },
    {
      "cell_type": "code",
      "source": [
        "y_pred = ann.predict(X_test)\n",
        "y_pred = (y_pred > 0.5)\n",
        "print(np.concatenate((y_pred[0].reshape(len(y_pred[0]),1), y_test[0].reshape(len(y_test[0]),1)),1))\n",
        "print(np.concatenate((y_pred[1].reshape(len(y_pred[1]),1), y_test[1].reshape(len(y_test[1]),1)),1))\n",
        "print(np.concatenate((y_pred[2].reshape(len(y_pred[2]),1), y_test[2].reshape(len(y_test[2]),1)),1))"
      ],
      "metadata": {
        "id": "hzeMER7BSOi7"
      },
      "execution_count": null,
      "outputs": []
    },
    {
      "cell_type": "markdown",
      "source": [
        ""
      ],
      "metadata": {
        "id": "kwixFgfPPBgA"
      }
    },
    {
      "cell_type": "markdown",
      "source": [
        "## Experiment 2 - Building the CNN Model"
      ],
      "metadata": {
        "id": "6SYxMI9QPHVi"
      }
    },
    {
      "cell_type": "markdown",
      "source": [
        "### Approach 1 - Building the CNN"
      ],
      "metadata": {
        "id": "c7_FjOHlPKPy"
      }
    },
    {
      "cell_type": "code",
      "source": [
        "cnn = tf.keras.models.Sequential()\n",
        "cnn.add(tf.keras.layers.Conv1D(32, 3, activation='relu'))\n",
        "cnn.add(tf.keras.layers.Flatten())\n",
        "cnn.add(tf.keras.layers.Dense(units=3,activation='relu'))\n",
        "cnn.compile(optimizer = 'adam', loss = 'binary_crossentropy', metrics = ['accuracy'])\n",
        "cnn.fit(X_train,y_train,epochs = 10)"
      ],
      "metadata": {
        "id": "c_QdC_W1WLC9",
        "colab": {
          "base_uri": "https://localhost:8080/"
        },
        "outputId": "b0f66767-99ef-49b7-e762-a659758e8579"
      },
      "execution_count": null,
      "outputs": [
        {
          "output_type": "stream",
          "name": "stdout",
          "text": [
            "Epoch 1/10\n",
            "68/68 [==============================] - 5s 61ms/step - loss: -0.9358 - accuracy: 0.6370\n",
            "Epoch 2/10\n",
            "68/68 [==============================] - 3s 38ms/step - loss: -3.4645 - accuracy: 0.9147\n",
            "Epoch 3/10\n",
            "68/68 [==============================] - 3s 38ms/step - loss: -3.5952 - accuracy: 0.9278\n",
            "Epoch 4/10\n",
            "68/68 [==============================] - 3s 38ms/step - loss: -3.6324 - accuracy: 0.9278\n",
            "Epoch 5/10\n",
            "68/68 [==============================] - 3s 38ms/step - loss: -3.6262 - accuracy: 0.9287\n",
            "Epoch 6/10\n",
            "68/68 [==============================] - 3s 38ms/step - loss: -3.6247 - accuracy: 0.9287\n",
            "Epoch 7/10\n",
            "68/68 [==============================] - 3s 39ms/step - loss: -3.6247 - accuracy: 0.9287\n",
            "Epoch 8/10\n",
            "68/68 [==============================] - 3s 41ms/step - loss: -3.6247 - accuracy: 0.9287\n",
            "Epoch 9/10\n",
            "68/68 [==============================] - 3s 39ms/step - loss: -3.6247 - accuracy: 0.9287\n",
            "Epoch 10/10\n",
            "68/68 [==============================] - 3s 39ms/step - loss: -3.6247 - accuracy: 0.9287\n"
          ]
        },
        {
          "output_type": "execute_result",
          "data": {
            "text/plain": [
              "<keras.callbacks.History at 0x7f86d456ba10>"
            ]
          },
          "metadata": {},
          "execution_count": 50
        }
      ]
    },
    {
      "cell_type": "markdown",
      "source": [
        "### Approach 2 - Building the CNN by introducing softmax activation function"
      ],
      "metadata": {
        "id": "cTQV7mF0POx2"
      }
    },
    {
      "cell_type": "code",
      "source": [
        "cnn1 = tf.keras.models.Sequential()\n",
        "cnn1.add(tf.keras.layers.Conv1D(32, 3, activation='relu'))\n",
        "cnn1.add(tf.keras.layers.Flatten())\n",
        "cnn1.add(tf.keras.layers.Dense(units=3,activation='softmax'))\n",
        "cnn1.compile(optimizer = 'adam', loss = 'binary_crossentropy', metrics = ['accuracy'])\n",
        "history = cnn1.fit(X_train,y_train,batch_size = 20,epochs = 10)"
      ],
      "metadata": {
        "colab": {
          "base_uri": "https://localhost:8080/"
        },
        "id": "GsSDhFxgWcei",
        "outputId": "de899f5f-1a8f-4e75-efd2-87713d5fd2c1"
      },
      "execution_count": null,
      "outputs": [
        {
          "output_type": "stream",
          "name": "stdout",
          "text": [
            "Epoch 1/10\n",
            "108/108 [==============================] - 3s 27ms/step - loss: -0.1142 - accuracy: 0.3733\n",
            "Epoch 2/10\n",
            "108/108 [==============================] - 3s 27ms/step - loss: -3.8265 - accuracy: 0.9804\n",
            "Epoch 3/10\n",
            "108/108 [==============================] - 3s 27ms/step - loss: -14.5917 - accuracy: 0.9828\n",
            "Epoch 4/10\n",
            "108/108 [==============================] - 3s 26ms/step - loss: -34.7721 - accuracy: 0.9981\n",
            "Epoch 5/10\n",
            "108/108 [==============================] - 3s 26ms/step - loss: -64.2635 - accuracy: 0.9949\n",
            "Epoch 6/10\n",
            "108/108 [==============================] - 3s 27ms/step - loss: -102.8670 - accuracy: 1.0000\n",
            "Epoch 7/10\n",
            "108/108 [==============================] - 3s 27ms/step - loss: -149.9921 - accuracy: 1.0000\n",
            "Epoch 8/10\n",
            "108/108 [==============================] - 3s 26ms/step - loss: -205.5318 - accuracy: 1.0000\n",
            "Epoch 9/10\n",
            "108/108 [==============================] - 3s 25ms/step - loss: -268.7446 - accuracy: 1.0000\n",
            "Epoch 10/10\n",
            "108/108 [==============================] - 3s 26ms/step - loss: -340.1742 - accuracy: 1.0000\n"
          ]
        }
      ]
    },
    {
      "cell_type": "markdown",
      "source": [
        "### Approach 3 - Building the CNN by adjusting filter and kernel size"
      ],
      "metadata": {
        "id": "35G_vVY2RVbF"
      }
    },
    {
      "cell_type": "code",
      "source": [
        "cnn3 = tf.keras.models.Sequential()\n",
        "cnn3.add(tf.keras.layers.Conv1D(3, 3, activation='relu'))\n",
        "cnn3.add(tf.keras.layers.Flatten())\n",
        "cnn3.add(tf.keras.layers.Dense(units=3,activation='softmax'))\n",
        "cnn3.compile(optimizer = 'adam', loss = 'binary_crossentropy', metrics = ['accuracy'])\n",
        "history = cnn3.fit(X_train,y_train,epochs = 10)"
      ],
      "metadata": {
        "colab": {
          "base_uri": "https://localhost:8080/"
        },
        "id": "ui9GJRgNQDB9",
        "outputId": "ab3c57c7-05f0-4f6b-bd42-5b8ab17a3be7"
      },
      "execution_count": null,
      "outputs": [
        {
          "output_type": "stream",
          "name": "stdout",
          "text": [
            "Epoch 1/10\n",
            "68/68 [==============================] - 2s 17ms/step - loss: 0.1583 - accuracy: 0.2423\n",
            "Epoch 2/10\n",
            "68/68 [==============================] - 1s 17ms/step - loss: -0.5152 - accuracy: 0.6193\n",
            "Epoch 3/10\n",
            "68/68 [==============================] - 1s 17ms/step - loss: -1.4033 - accuracy: 0.9380\n",
            "Epoch 4/10\n",
            "68/68 [==============================] - 1s 16ms/step - loss: -2.7514 - accuracy: 0.9124\n",
            "Epoch 5/10\n",
            "68/68 [==============================] - 1s 17ms/step - loss: -4.6308 - accuracy: 0.9781\n",
            "Epoch 6/10\n",
            "68/68 [==============================] - 1s 16ms/step - loss: -7.0095 - accuracy: 0.9972\n",
            "Epoch 7/10\n",
            "68/68 [==============================] - 1s 17ms/step - loss: -9.8852 - accuracy: 0.9991\n",
            "Epoch 8/10\n",
            "68/68 [==============================] - 1s 17ms/step - loss: -13.2833 - accuracy: 0.9995\n",
            "Epoch 9/10\n",
            "68/68 [==============================] - 1s 16ms/step - loss: -17.1848 - accuracy: 1.0000\n",
            "Epoch 10/10\n",
            "68/68 [==============================] - 1s 16ms/step - loss: -21.5365 - accuracy: 1.0000\n"
          ]
        }
      ]
    },
    {
      "cell_type": "markdown",
      "source": [
        "### Approach 4 - Building the CNN by keeping filter = 100 and kernel size = 4"
      ],
      "metadata": {
        "id": "I4cmj1a-RffW"
      }
    },
    {
      "cell_type": "code",
      "source": [
        "cnn4 = tf.keras.models.Sequential()\n",
        "cnn4.add(tf.keras.layers.Conv1D(100, 4, activation='relu'))\n",
        "cnn4.add(tf.keras.layers.Flatten())\n",
        "cnn4.add(tf.keras.layers.Dense(units=3,activation='softmax'))\n",
        "cnn4.compile(optimizer = 'adam', loss = 'binary_crossentropy', metrics = ['accuracy'])\n",
        "history = cnn4.fit(X_train,y_train,epochs = 10)"
      ],
      "metadata": {
        "colab": {
          "base_uri": "https://localhost:8080/"
        },
        "id": "u8oJRHXJRGdr",
        "outputId": "4aad5c96-1ab7-4215-c6e2-aaa60f91d46c"
      },
      "execution_count": null,
      "outputs": [
        {
          "output_type": "stream",
          "name": "stdout",
          "text": [
            "Epoch 1/10\n",
            "68/68 [==============================] - 9s 126ms/step - loss: -0.0019 - accuracy: 0.5913\n",
            "Epoch 2/10\n",
            "68/68 [==============================] - 7s 99ms/step - loss: -7.7793 - accuracy: 0.9343\n",
            "Epoch 3/10\n",
            "68/68 [==============================] - 7s 98ms/step - loss: -29.9232 - accuracy: 0.9790\n",
            "Epoch 4/10\n",
            "68/68 [==============================] - 7s 98ms/step - loss: -71.3465 - accuracy: 0.9739\n",
            "Epoch 5/10\n",
            "68/68 [==============================] - 7s 100ms/step - loss: -131.9832 - accuracy: 0.9958\n",
            "Epoch 6/10\n",
            "68/68 [==============================] - 7s 101ms/step - loss: -212.9570 - accuracy: 0.9977\n",
            "Epoch 7/10\n",
            "68/68 [==============================] - 7s 99ms/step - loss: -311.6064 - accuracy: 0.9995\n",
            "Epoch 8/10\n",
            "68/68 [==============================] - 7s 98ms/step - loss: -429.7917 - accuracy: 0.9986\n",
            "Epoch 9/10\n",
            "68/68 [==============================] - 7s 97ms/step - loss: -564.4125 - accuracy: 0.9963\n",
            "Epoch 10/10\n",
            "68/68 [==============================] - 7s 99ms/step - loss: -716.7828 - accuracy: 0.9986\n"
          ]
        }
      ]
    },
    {
      "cell_type": "markdown",
      "source": [
        "### Visualizing performance"
      ],
      "metadata": {
        "id": "7UaV37foPgsR"
      }
    },
    {
      "cell_type": "code",
      "source": [
        "# list all data in history\n",
        "print(history.history.keys())\n",
        "# summarize history for accuracy\n",
        "plt.plot(history.history['accuracy'])\n",
        "plt.title('model accuracy')\n",
        "plt.ylabel('accuracy')\n",
        "plt.xlabel('epoch')\n",
        "plt.legend(['train', 'test'], loc='upper left')\n",
        "plt.show()\n",
        "# summarize history for loss\n",
        "plt.plot(history.history['loss'])\n",
        "plt.title('model loss')\n",
        "plt.ylabel('loss')\n",
        "plt.xlabel('epoch')\n",
        "plt.legend(['train', 'test'], loc='upper left')\n",
        "plt.show()"
      ],
      "metadata": {
        "colab": {
          "base_uri": "https://localhost:8080/",
          "height": 590
        },
        "id": "DntLQ37WLl-H",
        "outputId": "b338868b-2203-47d4-8495-e9ff23a66f87"
      },
      "execution_count": null,
      "outputs": [
        {
          "output_type": "stream",
          "name": "stdout",
          "text": [
            "dict_keys(['loss', 'accuracy'])\n"
          ]
        },
        {
          "output_type": "display_data",
          "data": {
            "image/png": "[encoded data removed]",
            "text/plain": [
              "<Figure size 432x288 with 1 Axes>"
            ]
          },
          "metadata": {
            "needs_background": "light"
          }
        },
        {
          "output_type": "display_data",
          "data": {
            "image/png": "[encoded data removed]",
            "text/plain": [
              "<Figure size 432x288 with 1 Axes>"
            ]
          },
          "metadata": {
            "needs_background": "light"
          }
        }
      ]
    },
    {
      "cell_type": "markdown",
      "source": [
        "### Predicting results"
      ],
      "metadata": {
        "id": "7M9ztzrkPjnU"
      }
    },
    {
      "cell_type": "code",
      "source": [
        "y_pred = cnn4.predict(X_test)\n",
        "y_pred = (y_pred > 0.5)\n",
        "print(np.concatenate((y_pred[0].reshape(len(y_pred[0]),1), y_test[0].reshape(len(y_test[0]),1)),1))\n",
        "print(np.concatenate((y_pred[1].reshape(len(y_pred[1]),1), y_test[1].reshape(len(y_test[1]),1)),1))\n",
        "print(np.concatenate((y_pred[2].reshape(len(y_pred[2]),1), y_test[2].reshape(len(y_test[2]),1)),1))"
      ],
      "metadata": {
        "colab": {
          "base_uri": "https://localhost:8080/"
        },
        "id": "m01b0zwNLsGl",
        "outputId": "0a2e2c49-e343-400e-de25-515974102468"
      },
      "execution_count": null,
      "outputs": [
        {
          "output_type": "stream",
          "name": "stdout",
          "text": [
            "[[ 0.         -1.50151439]\n",
            " [ 1.          5.3696679 ]\n",
            " [ 0.         -0.61394061]]\n",
            "[[ 0.          0.66599428]\n",
            " [ 1.         -0.18623126]\n",
            " [ 0.         -0.61394061]]\n",
            "[[ 0.          0.66599428]\n",
            " [ 1.         -0.18623126]\n",
            " [ 0.         -0.61394061]]\n"
          ]
        }
      ]
    }
  ]
}