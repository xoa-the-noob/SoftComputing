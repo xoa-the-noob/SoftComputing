{
  "nbformat": 4,
  "nbformat_minor": 0,
  "metadata": {
    "colab": {
      "name": "Assignment2.ipynb",
      "provenance": [],
      "collapsed_sections": [
        "o_Y_KB_d8EOf",
        "DO9CHSTz_xlN",
        "weCq21Yd78p6",
        "KSTugSL55GQr"
      ]
    },
    "kernelspec": {
      "name": "python3",
      "display_name": "Python 3"
    },
    "language_info": {
      "name": "python"
    }
  },
  "cells": [
    {
      "cell_type": "code",
      "source": [
        "import numpy as np\n",
        "import pandas as pd\n",
        "import tensorflow as tf\n",
        "import matplotlib.pyplot as plt\n",
        "import torch\n",
        "import random"
      ],
      "metadata": {
        "id": "gfD5gAwVzuK1"
      },
      "execution_count": 302,
      "outputs": []
    },
    {
      "cell_type": "code",
      "source": [
        "df = pd.read_csv('Dataset.csv', delimiter = ',')"
      ],
      "metadata": {
        "id": "VE6-hwntzvrv"
      },
      "execution_count": 303,
      "outputs": []
    },
    {
      "cell_type": "code",
      "source": [
        "df.head()"
      ],
      "metadata": {
        "colab": {
          "base_uri": "https://localhost:8080/",
          "height": 206
        },
        "id": "e5v5THsn0Pyx",
        "outputId": "395dbdb7-5b52-48de-eb11-14eb2cccb36f"
      },
      "execution_count": 304,
      "outputs": [
        {
          "output_type": "execute_result",
          "data": {
            "text/html": [
              "\n",
              "  <div id=\"df-db9bd1cf-c7a3-41f8-a3ed-d7a0d1b6d529\">\n",
              "    <div class=\"colab-df-container\">\n",
              "      <div>\n",
              "<style scoped>\n",
              "    .dataframe tbody tr th:only-of-type {\n",
              "        vertical-align: middle;\n",
              "    }\n",
              "\n",
              "    .dataframe tbody tr th {\n",
              "        vertical-align: top;\n",
              "    }\n",
              "\n",
              "    .dataframe thead th {\n",
              "        text-align: right;\n",
              "    }\n",
              "</style>\n",
              "<table border=\"1\" class=\"dataframe\">\n",
              "  <thead>\n",
              "    <tr style=\"text-align: right;\">\n",
              "      <th></th>\n",
              "      <th>Text</th>\n",
              "      <th>Sentiment</th>\n",
              "    </tr>\n",
              "  </thead>\n",
              "  <tbody>\n",
              "    <tr>\n",
              "      <th>0</th>\n",
              "      <td>Kickers on my watchlist XIDE TIT SOQ PNK CPW B...</td>\n",
              "      <td>1</td>\n",
              "    </tr>\n",
              "    <tr>\n",
              "      <th>1</th>\n",
              "      <td>user: AAP MOVIE. 55% return for the FEA/GEED i...</td>\n",
              "      <td>1</td>\n",
              "    </tr>\n",
              "    <tr>\n",
              "      <th>2</th>\n",
              "      <td>user I'd be afraid to short AMZN - they are lo...</td>\n",
              "      <td>1</td>\n",
              "    </tr>\n",
              "    <tr>\n",
              "      <th>3</th>\n",
              "      <td>MNTA Over 12.00</td>\n",
              "      <td>1</td>\n",
              "    </tr>\n",
              "    <tr>\n",
              "      <th>4</th>\n",
              "      <td>OI  Over 21.37</td>\n",
              "      <td>1</td>\n",
              "    </tr>\n",
              "  </tbody>\n",
              "</table>\n",
              "</div>\n",
              "      <button class=\"colab-df-convert\" onclick=\"convertToInteractive('df-db9bd1cf-c7a3-41f8-a3ed-d7a0d1b6d529')\"\n",
              "              title=\"Convert this dataframe to an interactive table.\"\n",
              "              style=\"display:none;\">\n",
              "        \n",
              "  <svg xmlns=\"http://www.w3.org/2000/svg\" height=\"24px\"viewBox=\"0 0 24 24\"\n",
              "       width=\"24px\">\n",
              "    <path d=\"M0 0h24v24H0V0z\" fill=\"none\"/>\n",
              "    <path d=\"M18.56 5.44l.94 2.06.94-2.06 2.06-.94-2.06-.94-.94-2.06-.94 2.06-2.06.94zm-11 1L8.5 8.5l.94-2.06 2.06-.94-2.06-.94L8.5 2.5l-.94 2.06-2.06.94zm10 10l.94 2.06.94-2.06 2.06-.94-2.06-.94-.94-2.06-.94 2.06-2.06.94z\"/><path d=\"M17.41 7.96l-1.37-1.37c-.4-.4-.92-.59-1.43-.59-.52 0-1.04.2-1.43.59L10.3 9.45l-7.72 7.72c-.78.78-.78 2.05 0 2.83L4 21.41c.39.39.9.59 1.41.59.51 0 1.02-.2 1.41-.59l7.78-7.78 2.81-2.81c.8-.78.8-2.07 0-2.86zM5.41 20L4 18.59l7.72-7.72 1.47 1.35L5.41 20z\"/>\n",
              "  </svg>\n",
              "      </button>\n",
              "      \n",
              "  <style>\n",
              "    .colab-df-container {\n",
              "      display:flex;\n",
              "      flex-wrap:wrap;\n",
              "      gap: 12px;\n",
              "    }\n",
              "\n",
              "    .colab-df-convert {\n",
              "      background-color: #E8F0FE;\n",
              "      border: none;\n",
              "      border-radius: 50%;\n",
              "      cursor: pointer;\n",
              "      display: none;\n",
              "      fill: #1967D2;\n",
              "      height: 32px;\n",
              "      padding: 0 0 0 0;\n",
              "      width: 32px;\n",
              "    }\n",
              "\n",
              "    .colab-df-convert:hover {\n",
              "      background-color: #E2EBFA;\n",
              "      box-shadow: 0px 1px 2px rgba(60, 64, 67, 0.3), 0px 1px 3px 1px rgba(60, 64, 67, 0.15);\n",
              "      fill: #174EA6;\n",
              "    }\n",
              "\n",
              "    [theme=dark] .colab-df-convert {\n",
              "      background-color: #3B4455;\n",
              "      fill: #D2E3FC;\n",
              "    }\n",
              "\n",
              "    [theme=dark] .colab-df-convert:hover {\n",
              "      background-color: #434B5C;\n",
              "      box-shadow: 0px 1px 3px 1px rgba(0, 0, 0, 0.15);\n",
              "      filter: drop-shadow(0px 1px 2px rgba(0, 0, 0, 0.3));\n",
              "      fill: #FFFFFF;\n",
              "    }\n",
              "  </style>\n",
              "\n",
              "      <script>\n",
              "        const buttonEl =\n",
              "          document.querySelector('#df-db9bd1cf-c7a3-41f8-a3ed-d7a0d1b6d529 button.colab-df-convert');\n",
              "        buttonEl.style.display =\n",
              "          google.colab.kernel.accessAllowed ? 'block' : 'none';\n",
              "\n",
              "        async function convertToInteractive(key) {\n",
              "          const element = document.querySelector('#df-db9bd1cf-c7a3-41f8-a3ed-d7a0d1b6d529');\n",
              "          const dataTable =\n",
              "            await google.colab.kernel.invokeFunction('convertToInteractive',\n",
              "                                                     [key], {});\n",
              "          if (!dataTable) return;\n",
              "\n",
              "          const docLinkHtml = 'Like what you see? Visit the ' +\n",
              "            '<a target=\"_blank\" href=https://colab.research.google.com/notebooks/data_table.ipynb>data table notebook</a>'\n",
              "            + ' to learn more about interactive tables.';\n",
              "          element.innerHTML = '';\n",
              "          dataTable['output_type'] = 'display_data';\n",
              "          await google.colab.output.renderOutput(dataTable, element);\n",
              "          const docLink = document.createElement('div');\n",
              "          docLink.innerHTML = docLinkHtml;\n",
              "          element.appendChild(docLink);\n",
              "        }\n",
              "      </script>\n",
              "    </div>\n",
              "  </div>\n",
              "  "
            ],
            "text/plain": [
              "                                                Text  Sentiment\n",
              "0  Kickers on my watchlist XIDE TIT SOQ PNK CPW B...          1\n",
              "1  user: AAP MOVIE. 55% return for the FEA/GEED i...          1\n",
              "2  user I'd be afraid to short AMZN - they are lo...          1\n",
              "3                                  MNTA Over 12.00            1\n",
              "4                                   OI  Over 21.37            1"
            ]
          },
          "metadata": {},
          "execution_count": 304
        }
      ]
    },
    {
      "cell_type": "code",
      "source": [
        "df.info()"
      ],
      "metadata": {
        "colab": {
          "base_uri": "https://localhost:8080/"
        },
        "id": "bjcD3QAC0Rz7",
        "outputId": "68630ff6-2b50-4b05-eb2a-e94791333821"
      },
      "execution_count": 305,
      "outputs": [
        {
          "output_type": "stream",
          "name": "stdout",
          "text": [
            "<class 'pandas.core.frame.DataFrame'>\n",
            "RangeIndex: 5791 entries, 0 to 5790\n",
            "Data columns (total 2 columns):\n",
            " #   Column     Non-Null Count  Dtype \n",
            "---  ------     --------------  ----- \n",
            " 0   Text       5791 non-null   object\n",
            " 1   Sentiment  5791 non-null   int64 \n",
            "dtypes: int64(1), object(1)\n",
            "memory usage: 90.6+ KB\n"
          ]
        }
      ]
    },
    {
      "cell_type": "markdown",
      "source": [
        "##Stemming and Stop word removal"
      ],
      "metadata": {
        "id": "o_Y_KB_d8EOf"
      }
    },
    {
      "cell_type": "code",
      "source": [
        "import re\n",
        "import nltk\n",
        "nltk.download('stopwords')\n",
        "from nltk.corpus import stopwords\n",
        "from nltk.stem.porter import PorterStemmer\n",
        "corpus = []\n",
        "\n",
        "for i in range(0, 5791):\n",
        " text = re.sub('[^a-zA-Z]',' ',str(df['Text'][i]))\n",
        " text = text.lower()\n",
        " text = text.split()\n",
        " ps = PorterStemmer()\n",
        " text=[ps.stem(word) for word in text if not word in set(stopwords.words('english'))]\n",
        " text = ' '.join(text)\n",
        " corpus.append(text)"
      ],
      "metadata": {
        "colab": {
          "base_uri": "https://localhost:8080/"
        },
        "id": "dZmEaXHE0ibu",
        "outputId": "78a20488-cc0c-4cf6-f27b-81d64cd8e7f3"
      },
      "execution_count": 306,
      "outputs": [
        {
          "output_type": "stream",
          "name": "stdout",
          "text": [
            "[nltk_data] Downloading package stopwords to /root/nltk_data...\n",
            "[nltk_data]   Package stopwords is already up-to-date!\n"
          ]
        }
      ]
    },
    {
      "cell_type": "code",
      "source": [
        "corpus"
      ],
      "metadata": {
        "colab": {
          "base_uri": "https://localhost:8080/"
        },
        "id": "oSuPGwoK07Fn",
        "outputId": "1d2544c6-0866-42ed-e435-68d5e112b131"
      },
      "execution_count": 307,
      "outputs": [
        {
          "output_type": "execute_result",
          "data": {
            "text/plain": [
              "['kicker watchlist xide tit soq pnk cpw bpz aj trade method method see prev post',\n",
              " 'user aap movi return fea geed indic trade year awesom',\n",
              " 'user afraid short amzn look like near monopoli ebook infrastructur servic',\n",
              " 'mnta',\n",
              " 'oi',\n",
              " 'pgnx',\n",
              " 'aap user current downtrend break otherwis short term correct med term downtrend',\n",
              " 'monday rel weak nyx win tie tap ice int bmc aon c chk biib',\n",
              " 'goog ower trend line channel test volum support',\n",
              " 'aap watch tomorrow ong entri',\n",
              " 'assum fcx open tomorrow trigger buy still much like setup',\n",
              " 'realli worri everyon expect market ralli usual exact opposit happen everi time shall see soon bac spx jpm',\n",
              " 'aap gamco arri haverti appl extrem cheap great video',\n",
              " 'user maykiljil post agre msft go higher possibl north',\n",
              " 'momentum come back etfc broke resist solid volum friday ong set',\n",
              " 'ha hit mean resum target level',\n",
              " 'user gameplan shot today like trend break may c h break oc weekli trend break back juli',\n",
              " 'fcx gap well ideal entri look pull least open entri',\n",
              " 'user great list particularli like fisv syk buy hold type check free list',\n",
              " 'athx upper trend line',\n",
              " 'ng nice pnf breakout need follow thru',\n",
              " 'believ aap uptrend back cross',\n",
              " 'x swing still',\n",
              " 'swi float short break ouch',\n",
              " 'biof want comin',\n",
              " 'vs invert head shoulder play well abl catch entri eye',\n",
              " 'red readi break',\n",
              " 'ei close break trigger',\n",
              " 'user bac quick trade late invest good entri point imho',\n",
              " 'chdn ong trail stop prior stop',\n",
              " 'aap vome today impress rate well probabl get share trade today',\n",
              " 'user ad vxi long bottom today trade also got wpi near low',\n",
              " 'repeat global economi go get better year go c instead bac',\n",
              " 'goog go ong close',\n",
              " 'nkd look like good short fail break price level resist today',\n",
              " 'gs like price action far hold still decid whether go ong call stock',\n",
              " 'sbx buy clear resist',\n",
              " 'new target aap notic shakeout read buy dot monday',\n",
              " 'earli short move stock market need day settl patienc coh bwd dt aap pay',\n",
              " 'aap obber hit appl store pari prefer take merchendis cash bullish',\n",
              " 'axa tip day buy even sign newslett anyth wrong eat crow',\n",
              " 'x due move today kirbi daili around still swing',\n",
              " 'aap min short long fulli ad look pop market shakeout reset',\n",
              " 'ng stellar move still long swing full posit believ user user',\n",
              " 'atic tade setp ko cnx',\n",
              " 'idcc sma act good support short term momentum indic switch upsid',\n",
              " 'new post bac month high show sign stress',\n",
              " 'c two daili bull flag top bullish still',\n",
              " 'ng tradit point figur bullish signal multiyear high',\n",
              " 'jpm close sma monday u know rule larg cup n handl still bullish',\n",
              " 'eog ascend triangl origin target extens ep feb th posit swing',\n",
              " 'aapl daili broke downtrend close price w v pattern back play target',\n",
              " 'phm pultegroup option bear bet million move april',\n",
              " 'bac trade',\n",
              " 'short setup display rel weak ao coh pay bwd dt shd wtw p prepar short stall es f',\n",
              " 'amzn monet electron make traffic marketplac aap goog wake say buy ebay',\n",
              " 'cvi start clean book make first buy yr entri stop',\n",
              " 'sam cheer temporari solut econom woe entri stop',\n",
              " 'sk gave',\n",
              " 'ovti ttm end oct neg million oper cash flow declin vs yoy ttm end oct',\n",
              " 'aap goog respond posit good jobless claim number',\n",
              " 'analyst price target earn target come exacti want see prior aap report',\n",
              " 'user nice color intc bull well',\n",
              " 'head p aa earn ess week away tho season eay begin crank til w gs jpm ebay et al',\n",
              " 'trade idea buy wo market target cut',\n",
              " 'trade idea buy dc market target cut',\n",
              " 'goog look set make new ath e unknown',\n",
              " 'goog trade one long vers sma',\n",
              " 'fnf ong trail stop prior stop',\n",
              " 'fod see solid move tom system predict nice green candl',\n",
              " 'year fit health app winner gynorm specul run high nke',\n",
              " 'time invest msft compq',\n",
              " 'new post short make dime ong make dollar aap spx qqq p',\n",
              " 'nbeliev payment trend vc chase easili play public market ebay v mastercard time high',\n",
              " 'watch list stock trigger today oex agnx tv vbd xide ppc exp onti bmn fs wk chmt fbc isi aig',\n",
              " 'nice bull flag breakout oc technolog softwar',\n",
              " 'setup alert went bonker today one mani got trigger cup handl breakout pfe',\n",
              " 'host congrat cloud today ax user time high wow',\n",
              " 'x steel breakout mt',\n",
              " 'dndn broken clear resistanc level heavi volum could head much higher',\n",
              " 'exp look good higher price',\n",
              " 'apc weekli set long',\n",
              " 'go morn long aap call option goog call jan th expir',\n",
              " 'es f path higher unthreaten unless support fail see resist spx stock',\n",
              " 'monitor line price dynam stock close dec line new high price mho tsm ipgp eqix bc bdc ash',\n",
              " 'ddd idcc continu higher',\n",
              " 'hope pick ost today look like day late nice move morn',\n",
              " 'gp wow wa fast fast fade',\n",
              " 'amzn go go near market behav week',\n",
              " 'huston geen aap',\n",
              " 'p long',\n",
              " 'hn breakout rd day look pullback enter long',\n",
              " 'ng ascend triangl much like fs x breakout exten target fib subject',\n",
              " 'kcg thing make go hmmmm',\n",
              " 'vng huge news patent attorney dan avich',\n",
              " 'ng nhod check weekli target previou low',\n",
              " 'ng nhod see check weekli target previou low',\n",
              " 'aig american intern group option trader bet move next friday',\n",
              " 'p balanc',\n",
              " 'vng buy vs sell',\n",
              " 'bac sinc consolid level could close market stabl pm imho',\n",
              " 'vng parabol move comin',\n",
              " 'new soni pre own block tech patent unearth sne gme profit pre own last one turn light',\n",
              " 'like vs love wynn entri new target yesterday nice',\n",
              " 'user spx wave iv would point lower key es f hod necklin bearish',\n",
              " 'ddd consolid strong move previou day next buy point volum hold',\n",
              " 'vng mil share short plu long buy massiv vng short squeez thought stori dead avich kill short thesi',\n",
              " 'wow good bk user sale nook holiday',\n",
              " 'ac watch list volum pick full day averag day bounc',\n",
              " 'new wightwatch ad fun light regular peopl interest still dont trust wtw posit',\n",
              " 'amzn hold well next buy point clear upper trend line heavi volum',\n",
              " 'exactli want see follow thru day break new high volum',\n",
              " 'zc user buy',\n",
              " 'aap spi qe bring geithner',\n",
              " 'extend stock market unexpect news fed minut esd panicki es f nq f',\n",
              " 'spi ncle ben need spice thing littl aap peopl bore wake',\n",
              " 'aap might close low day bear control descend trendlin watch',\n",
              " 'fan seek im ad synthet short add',\n",
              " 'cwst low day near high day watchn b minim risk',\n",
              " 'gme gamestop short target spi',\n",
              " 'time get cloud stock vmw cm',\n",
              " 'bac keep overniight mmi po bin premarket tmorrow',\n",
              " 'polk expect new vehicl egistr million polk f gm think low',\n",
              " 'bullish market also talk trend scti ost angi fio panw jcp p yep mnst gpn show',\n",
              " 'bac happen next',\n",
              " 'kcg someon bought k jan call',\n",
              " 'man didnt know skippi made would thrown jar h hormel',\n",
              " 'big move bond today month high rate still go lower zn f could get truli ugli good nfp number spi tt',\n",
              " 'market wrap video addit watch ist includ bcei bji cee es son sqnm nx yep',\n",
              " 'mayb vrng ask judg royalti becam riski goog deal want settl',\n",
              " 'bji good volum',\n",
              " 'cee',\n",
              " 'sqnm',\n",
              " 'nx flag break',\n",
              " 'system bring next gen consum print ce ddd',\n",
              " 'aap top april aston kutcher star job kinda like facebook social network came fb',\n",
              " 'vng w macd turn signal line vng could post nice ralli current level',\n",
              " 'pi q q oper cash flow mo million declin vs mo year ago',\n",
              " 'bbbi q q oper cash flow million increas vs year ago q improv q q',\n",
              " 'di mo oper cash flow million increas million vs mo year ago increas',\n",
              " 'q q mo oper cash flow million vs neg mil mo year ago',\n",
              " 'q oper cash flow neg million vs year ago q neg million million improv',\n",
              " 'quiet carl icahn bullish nfx short paranoid everi close get acquir think aapl msft amzn fb',\n",
              " 'aapl bull cannot break trend line obv',\n",
              " 'user phantom call ever sinc start thing given kcg',\n",
              " 'nx watch list small flag volum ave full day good volum',\n",
              " 'goog pois clear next resist buy add area watch action volum close',\n",
              " 'gdp watch list slightli line day ema light volum ave full day',\n",
              " 'took profit ddd add break volum',\n",
              " 'chk look small risk posit call scalp mayb swing xe watch',\n",
              " 'onti holder would hold rais ask could realli pop go climb slowli regardless',\n",
              " 'eog pxd oa energyswag',\n",
              " 'aap move volum couldnt cope descend trend line trend still perhap imposs',\n",
              " 'aap ema continu work aap make lower high maco sens',\n",
              " 'went short spi yesterday pick aap instead still think market need move bit resum move upsid',\n",
              " 'aap peopl realist market undecid appl earn lift cloud good might eay see revers',\n",
              " 'watch close care decid whether ong shot aap shot',\n",
              " 'jcp keep eye triangl big short int report feb cup handl dt ong',\n",
              " 'sold littl goog first time',\n",
              " 'nice cup handl breakout mca',\n",
              " 'faf new high',\n",
              " 'spi give aap finger care anymor lol',\n",
              " 'smith corona ok amzn',\n",
              " 'va ong trail stop stop',\n",
              " 'amzn alert updat last minut push tri shake put hang',\n",
              " 'aap volum higher today monday keep mind',\n",
              " 'hb ong trail stop prior stop',\n",
              " 'key panic aap domain twitchi day trader robot long term hold fundament',\n",
              " 'nvda hour love see vol explod',\n",
              " 'vng take hard look goog ftc settlement patent ftc make goog play nice vng make sens',\n",
              " 'worri gone oco call goog door step nearli move',\n",
              " 'vng crazi anyon listen trade tool',\n",
              " 'goog get fuel aap revers',\n",
              " 'user make bbi offer shave offer price bid went matter month',\n",
              " 'nvda answer question entri add red candl today ove flag',\n",
              " 'aap lot bid feb call might push stock creat support delta option',\n",
              " 'wpi short candid list miss got start short today',\n",
              " 'mye break',\n",
              " 'short ht sma stop high day first target second target gap fill',\n",
              " 'qcom introduc streamboost averag home connect seven devic internet',\n",
              " 'nvda love see momo next week like previou histogram bar note',\n",
              " 'hma unusu option activ trader buy k jan put short term bear play',\n",
              " 'adb option trader buy feb c oi bet stock feb th',\n",
              " 'nvda ook bullish must stay close basi monthli ep say',\n",
              " 'sqnm watch list line volum ave full day',\n",
              " 'hott fail breakout',\n",
              " 'zn f tick seller sdjpi alreadi',\n",
              " 'ino wow nice accumul today heavi',\n",
              " 'znga fat juici short back lower level close gap',\n",
              " 'gdot nice bounc sma ook readi test recent high',\n",
              " 'hma ook head higher',\n",
              " 'spf ook head higher lower rate',\n",
              " 'gs jpm xf hod hungri stock spi',\n",
              " 'chk weekli bullish engulf',\n",
              " 'gs look good head next week',\n",
              " 'aap know ipad mini stock everywher go differ store none em stock',\n",
              " 'goog explod aapl implod mint user vid year ago mark nail subject',\n",
              " 'kkd krispi kreme doughnut inc ic xchang confer ive et',\n",
              " 'pick fs pullback due downgrad held support close week first pt',\n",
              " 'user pick one call kkd next food compani make dpz like run twenti',\n",
              " 'znga still show red dead enko view pf box size',\n",
              " 'gs enko view gs pf box size show potenti break',\n",
              " 'nvda enko view show red dead need long less short',\n",
              " 'csx enko view pf box size vey bullish coal stock confirm move rail',\n",
              " 'goog enko w pf box size look like fail breakout',\n",
              " 'user gs bullish fin rate low fed put',\n",
              " 'user znga use lag indic lag stock',\n",
              " 'goog like close',\n",
              " 'fs b bull flag heavi vol etest support today light vol short float',\n",
              " 'msft gap close continu base si rise nice pickup w stop major support pt',\n",
              " 'financi continu rip easi money c approach pt',\n",
              " 'vs follow through dma cross dma trade great setup',\n",
              " 'user bac yeah made easi profit slash job close win win sale',\n",
              " 'new buy today watch list well nx son yep bcei gdp ay sqnm total trigger week big week',\n",
              " 'sbx si earththi kind stuff make us perk sorri go bullish five wave',\n",
              " 'say brainier ong sbac stock feb collar protect',\n",
              " 'anyon say much svu would go even deal goe sure much upsid left',\n",
              " 'nvda bounc continu stock clear sma level ong',\n",
              " 'axti momentum pick w macd climb si rise obv indic made new higher high week',\n",
              " 'gdot obv move upward mean big money move stock slowli ong',\n",
              " 'aapl daili see note',\n",
              " 'amzn daili see note',\n",
              " 'c daili see note',\n",
              " 'egov long strong rest base room upper bolli absorb day atr',\n",
              " 'aa fib friend',\n",
              " 'tsa judg dismiss massachusett state automobil dealer associ awsuit',\n",
              " 'bac trend appear slow yet prudent take profit time',\n",
              " 'fe look like fire sell signal friday may trade short tick friday low work util later',\n",
              " 'coh also got reject cloud still slight uptrend past buy enter cloud',\n",
              " 'yum look good cloud stop either sma cloud target sma',\n",
              " 'eqix exp fb gs hog mon pii qcom qih soda idea next week favorit setup eqix',\n",
              " 'eqix posit would like see breakout prefer consolid though',\n",
              " 'time contract aap test week wed long jan th put spread',\n",
              " 'aap bounc come',\n",
              " 'fs en fuego',\n",
              " 'axa sold oscil ang indic suggest buy price hold prev close increas volum',\n",
              " 'hold check user bullish macd cross bbg cop eni eog jec ig sfi xe xop',\n",
              " 'jd beauti trend bring dip buyer',\n",
              " 'ko troubl stay day sma past week could short higher stop',\n",
              " 'mako red day monday break support could test old low',\n",
              " 'hour advanc opt mako fod gnmk jd ege amn px aay ddd sv pm bk f',\n",
              " 'goog simpl fibonacci project close',\n",
              " 'buy aap monday',\n",
              " 'user amzn measur move',\n",
              " 'user ino pipelin partnership ni mk pretti much sum',\n",
              " 'amzn data compani retail new post',\n",
              " 'trade environ favor long side stay welcom qualiti leader gs amh ocn egn hov aap',\n",
              " 'aap amaz run sinc think',\n",
              " 'tale two stock aap goog spi qqq',\n",
              " 'f ford power bullish pattern dictat price direct',\n",
              " 'dt descend triangl ower high particip well ralli overbought',\n",
              " 'cva',\n",
              " 'mck',\n",
              " 'vmed know prefer day pullback revers mayb mon tuesday flag break sup',\n",
              " 'kid legibl version current long fs tweet friday',\n",
              " 'ford perform well due hurrican sandi destruct f palladium well pa bank buy pick bac c san gs',\n",
              " 'gs buy pullback bigger pullback',\n",
              " 'ceg keep watch list',\n",
              " 'wish tv would die alreadi like newspap told cb ftw',\n",
              " 'think aap head back check support',\n",
              " 'amzn yap yap yap',\n",
              " 'sndk pattern look interest success break gap time around',\n",
              " 'amzn time high pre market aapl still plung interest trade day',\n",
              " 'see risk es f bearish momentum diverg resolv spx spi stock',\n",
              " 'user onxx strong price vol expans friday possibl look higher price anoth biotech level',\n",
              " 'znga momentum build upsid watch',\n",
              " 'es watch list also fast move today volum ave full day usual tini volum',\n",
              " 'twi like long short',\n",
              " 'green weekli triangl heo pdate',\n",
              " 'eog min pullback breakout watch posit',\n",
              " 'kcg',\n",
              " 'zc almost hit stop loss glad see head back',\n",
              " 'aap close short nice gain',\n",
              " 'v beauti uptrend sinc june never broke higher high higher low trend',\n",
              " 'awesom aap trendlin ever sinc',\n",
              " 'ddd ong trail stop prior stop',\n",
              " 'nx largest watch list gainer new buy friday biggest mover today protect gain',\n",
              " 'green weekli triangl kto pdate',\n",
              " 'ak correct pphm largest watch list gainer today though gap big open',\n",
              " 'aap posit close today bullish look possibl ong set',\n",
              " 'ceg possibl ong today want play jpmogan biotech confer',\n",
              " 'fme ong trail stop prior stop',\n",
              " 'show friday upsid orang dot traget hit morn red dot',\n",
              " 'trigger first target',\n",
              " 'sxc break key downward channel level ike move much higher',\n",
              " 'must follow young man user amzn data compani retail new post',\n",
              " 'pg short back',\n",
              " 'ovti downgrad sept th q look good next file q end feb',\n",
              " 'vs option trader sell k call spread march big bet stock march expiri',\n",
              " 'aa option trader bet bad earn sell jan c buy jan p could hedg stock trade low oi',\n",
              " 'skx q oper cash flow neg million million declin vs q',\n",
              " 'skx mo oper cash flow neg million million declin vs mo',\n",
              " 'ed weekli triangl snss pdate',\n",
              " 'bac avrg',\n",
              " 'first trade come back vacat hot short stop',\n",
              " 'green weekli triangl scc pdate',\n",
              " 'podd break new wk high decent base',\n",
              " 'horsemen high beta momo chase fs gmc nfx slam bit advanc tell new year parti mrkt',\n",
              " 'pna look like solid set',\n",
              " 'name buy pullback gs ceg fb f',\n",
              " 'ba flush',\n",
              " 'amazon break adjust split via user amzn',\n",
              " 'financi xf drive mkt higher today weak ish except jpm st time littl red flag',\n",
              " 'ive broadcast got long signal pcn cover discount buy need push',\n",
              " 'amzn vome go big boy grab stock higher price come',\n",
              " 'twi high seen sinc septemb',\n",
              " 'user gold stock contest w v silver w tkc ddaif call win',\n",
              " 'amzn fb pick higher price week break consider volum',\n",
              " 'eceryon want piec pcn gorwth magic stake high innov fast market stake high',\n",
              " 'user scheplick easi short amzn buy ipad mini tax prep book border ackspac time',\n",
              " 'might open posit today cup handl make one fli quickli',\n",
              " 'cs ko posit nice revers ko',\n",
              " 'axp tri make move get interest',\n",
              " 'strong follow thru day break new high last friday confirm solid',\n",
              " 'v new high look higher price',\n",
              " 'ceg strong breakout new high today x daili avg volum ook good upsid',\n",
              " 'wetf cheap financi stock tri b would like see pullback consolid first',\n",
              " 'nfx short paranoid everi close buyout come night aapl msft goog amzn etc domin webtv long nflx',\n",
              " 'last session last hour buyer back money need put work money flow spi tt es f',\n",
              " 'user stock tell us anyth new trend say lot e aap anticip year',\n",
              " 'rax set spi',\n",
              " 'pcn long entri',\n",
              " 'green weekli triangl amp sell short',\n",
              " 'green weekli monthli triangl fw pdate monthli',\n",
              " 'user say zagg anoth',\n",
              " 'green weekli monthli triangl pab pdate',\n",
              " 'great level close goog',\n",
              " 'aap short term outlook possibl scenario bullish',\n",
              " 'barclay upsid case csod year end price target base x cy revenu upsid estim quit achiev',\n",
              " 'ctx conserv swing bounc nice support w volum mcp aggress swing howev strong probabl',\n",
              " 'user amzn time bird fli south',\n",
              " 'vv technic posit continu climb si obv macd look good',\n",
              " 'akx b like base action spot declin vol ripe pop',\n",
              " 'hao b price reject today also high',\n",
              " 'hway b nice base spot',\n",
              " 'yum premarket cloud support',\n",
              " 'multi day downsw es f favor see demand zone spx spi stock',\n",
              " 'mon make sale buyer weak look like game',\n",
              " 'fin mo oper cash flow declin million vs prior yr first mo declin',\n",
              " 'ayi q oper cash flow turn neg',\n",
              " 'ayi st neg oper cash flow quarter sinc quarter novemebr',\n",
              " 'ayi q oper cash flow neg million declin million vs q declin',\n",
              " 'bid hit aapl expect least move today',\n",
              " 'mon q oper cash flow billion million increas vs q increas',\n",
              " 'fio noth air stock',\n",
              " 'aap daili fade motion peopl want still work',\n",
              " 'short nfx stop',\n",
              " 'ctic got long',\n",
              " 'catch user hot ink total hook morn mani great read aap maco',\n",
              " 'ih year end oper cash flow declin million vs declin',\n",
              " 'watch xf jpm bac od close',\n",
              " 'unit cost see bounc ctic',\n",
              " 'littl whip pop drop go one purchas avg day limit exposur portfolio ctic',\n",
              " 'shd get short someon big must exit imo sit put',\n",
              " 'mon ad',\n",
              " 'like gag new american social enjoy video courtesi aig',\n",
              " 'jnp ad',\n",
              " 'x ad',\n",
              " 'user mr florida hope well trade save past im ask like ook fill gap',\n",
              " 'shd die alreadi ampert know sh ts run retail bought sear properti',\n",
              " 'wn ong trail stop prior stop',\n",
              " 'deck short trail stop prior stop',\n",
              " 'wfm short back',\n",
              " 'nice base build ctic test hod afternoon set nice follow thru tomorrow tradeoftheweek',\n",
              " 'million share ctic almost x avg daili vol think one day stori gap plenti rm run imho',\n",
              " 'shd eddi ampert trick poni',\n",
              " 'et angri anecdot comment begin still think blackberri im doom imm aap goog nok vz',\n",
              " 'user think aap put long term bottom cours could wrong look like',\n",
              " 'price alert go www desk',\n",
              " 'gg delist soon typical pump dump stori last month care one day trade mil next day ur stuck',\n",
              " 'tso option trader buy k feb p million bet stock feb exp could hedg oi',\n",
              " 'ddd ssi stop honor must becom bearshitt',\n",
              " 'cybx keep consolid near time high',\n",
              " 'ddd sentiment stock chang blink eye faint heart still long term bullish',\n",
              " 'mcp bottom strong esist nder level short breakout chanc',\n",
              " 'aig win awsuit announc dividend reinstat',\n",
              " 'tivo buyout come sure seem strong late',\n",
              " 'biggest mistak made day stick gut revers soa stick watchlist dk stp ana kog',\n",
              " 'ddd look easi short',\n",
              " 'instinct spot still think ctic hit wk still want stick morn watchlist chase',\n",
              " 'ax look good higher price',\n",
              " 'cm hold well',\n",
              " 'ana confer tomorrow guess hit',\n",
              " 'nfx hear pjco cautiou follow comscor data follow weak decemb overal q traffic turn neg user',\n",
              " 'se pullback initi quick trade invest long keep stop tight sell aap egn ocn amh ddd nsm',\n",
              " 'piper jaffray make neg comment nfx cst ed box comscor q data weak edbox netflix',\n",
              " 'mayb good time buy td level appear hold key support level',\n",
              " 'csn option trader buy jan call spread low oi indic enter posit bet data bef jan',\n",
              " 'aa goe kid colleg fund',\n",
              " 'x option trader take profit feb p sell k k oi roll posit feb p buy k',\n",
              " 'green monthli triangl acad net profit',\n",
              " 'far good regard apo earn strategi far soon call win though',\n",
              " 'aa went',\n",
              " 'aa hold key spx aa earn spx mo later',\n",
              " 'call week aa wfc apo mon',\n",
              " 'aa like spin oper cash flow',\n",
              " 'apo q oper cash flow million million declin vs q declin',\n",
              " 'ed weekli triangl am net profit',\n",
              " 'cm avg tho amwd coil breakout new high set buy stop slightli recent high',\n",
              " 'user jemberlin number good swing person hate amd',\n",
              " 'spi spx es green hedg star model next stop spx lower',\n",
              " 'swhc look like ban larg capac magazin hurdl purchas tabl politician even news',\n",
              " 'aa q oper cf declin vs q decin p spin say higher q note q less q',\n",
              " 'ht close sma bare rd time sinc oct ep way watch volum',\n",
              " 'user pwe crazi hao green weekli triangl short long',\n",
              " 'wt huge seller today check daili hold loook good swing',\n",
              " 'aj good volum',\n",
              " 'cybx broke time high accompain strong volum suggest higher level',\n",
              " 'onti look pois bounc bottom si start turn macd cross signal',\n",
              " 'still trade within uptrend channel short term uptrend still intact still bullish nvda',\n",
              " 'vv vivu ceo eportedli say acquisit inevit talk deal eport j p morgan',\n",
              " 'user c runner',\n",
              " 'v one longest growth stock hold ever month count',\n",
              " 'fio bounc morn short interest still noth air till',\n",
              " 'tol doji yesterday could mean anoth lower high wait close cloud go short',\n",
              " 'amwd set nice strong build construct product group along apog',\n",
              " 'tab like one real reason new contract pick slack small cell tech softwar servic',\n",
              " 'fs buy signal trigger us',\n",
              " 'anf radar move',\n",
              " 'dgi ftd pivot rang',\n",
              " 'hpq option trader buy k aug p k bet stock aug expir could stock hedg',\n",
              " 'faf new high still hold need volum',\n",
              " 'ns perfect day revers candl daili',\n",
              " 'voc actual triggerd yesterday close back line today itstri vol',\n",
              " 'ad app',\n",
              " 'wfm ad small prefer level lay short',\n",
              " 'ma watch list broke flag today also top line volum full day ave',\n",
              " 'cmg descend triangl avg volum',\n",
              " 'user ddd broke bear flag upsid ot short understand momentum caught stdi',\n",
              " 'dgi still move',\n",
              " 'ssi mayb share outstand short million oper cash flow ttm trade bil mkt cap',\n",
              " 'ssi oper cash flow declin ttm vs ttm',\n",
              " 'cover wac short look lower got book',\n",
              " 'vtx option trader buy put spread april strike could big bet move stock hedg',\n",
              " 'fs hour nice bounc ichard',\n",
              " 'gnc nice invers head shoulder well nice pullback support previou box breakout',\n",
              " 'user hate averag end screw good nn',\n",
              " 'da nice run entri move stop breakeven',\n",
              " 'ed weekli triangl ctic net profit gli wait month',\n",
              " 'cw clearwir corp arg trade put show bearish interest despit dish bid',\n",
              " 'apo strong push support w volum',\n",
              " 'watch list hao slip line watch volum full day ave',\n",
              " 'bearish thing seen week good overal market jpm spi es f',\n",
              " 'user bullish sell alway buy bearish market buy sell nx',\n",
              " 'voc watch list ad tuesday run day ema vol increas',\n",
              " 'ana get breakout yest hold today present jpm conf today est',\n",
              " 'trade idea buy esc target cut',\n",
              " 'swk decis come soon expect break look si macd tix',\n",
              " 'small dose realiti ctic',\n",
              " 'vs option trader close feb c sell k k oi open posit feb c sell k hard bid vs oi',\n",
              " 'six year ago appl introduc iphon world rememb aapl sixyearsold',\n",
              " 'ew went long ew ook like readi make move w breakout consolid',\n",
              " 'ebay base',\n",
              " 'short yhoo',\n",
              " 'chk thank jpm upgrad',\n",
              " 'dec bb cm initi ssi buy wonder still buy day',\n",
              " 'user ssi each si crash near',\n",
              " 'ssq pull back suspect uckili sold near re tweet watch get bck',\n",
              " 'user day ipo tripl posit ipo price never touch sinc probabl best stock move ever',\n",
              " 'aap p f bullish',\n",
              " 'aap support broken hesit sell lot downsid favor long',\n",
              " 'user eader ead bac side question even aap broken sinc week medium outlook look bright',\n",
              " 'green weekli triangl depo scale',\n",
              " 'intel tobacco stock interest read analog intel guess dividend tasti intc',\n",
              " 'green weekli triangl fnfg scale',\n",
              " 'faf ong trail stop prior stop',\n",
              " 'swi insid day held sma rsi hold look like counter trend move',\n",
              " 'despit weak aap spi fill day gap revers mere away everi stock outperform aap day',\n",
              " 'ipx',\n",
              " '',\n",
              " 'xxia',\n",
              " 'user shot yhoo',\n",
              " 'wpi buy look counter trend possibl bear wedg wont happi close day sma evalu',\n",
              " 'mon monthli game',\n",
              " 'ha ep estim slash squeez stock crash land look low',\n",
              " 'tso long crack spread say low short vo good short',\n",
              " 'aap pain gain stay mostli higher go low',\n",
              " 'geoy trade share worth share dgi x',\n",
              " 'china fix ing stdi',\n",
              " 'chk good info user user p thing rip imo',\n",
              " 'name like skypeopl fruit juic sp go next aap wait see',\n",
              " 'wh consolid high gap support immedi price',\n",
              " 'mt beav set possibl higher price',\n",
              " 'mgm caught ang user',\n",
              " 'new post could peter ynch stock md',\n",
              " 'fsc goe ex dividend tomorrow pay monthli per share next payment jan st yield',\n",
              " 'user dtradingtrad mio expend race offer depo',\n",
              " 'voxx user stock kudo friend',\n",
              " 'mcp perform expect mani red flag rais one last month mani could say told',\n",
              " 'swi wsj cerberu supervalu strike deal sourc may put bid swi',\n",
              " 'se shot ceco sm aci dmnd ns gci bbg ef tm eoc xco vccf pq axa pst p kcg mnta nav pac',\n",
              " 'hpq call',\n",
              " 'aap daili pop vomit motion',\n",
              " 'mcp catch knife think surviv defin risk buy januari eap option forget till',\n",
              " 'px ong move trail stop stop',\n",
              " 'aap see min candl row far',\n",
              " 'aap go red amaz mani time pattern repeat',\n",
              " 'user u miss still go lower mcp',\n",
              " 'gdot make new higher high macd bullish cross obv trend upward time fill gap',\n",
              " 'back full size posit znga',\n",
              " 'fce trigger tue gap wed today imo think take profit',\n",
              " 'goodby faf act weak never like anyway next',\n",
              " 'likin msft neg dvrgnce hammer today goin quadrupl bottom still long w stop',\n",
              " 'wfc miss add',\n",
              " 'bac wait setup ook like retest sure',\n",
              " 'mcp lot red flag ceo abruptli fire without perman replac got attent',\n",
              " 'aap gonna bounc hard',\n",
              " 'gs look super strong',\n",
              " 'wait see w school user jmba airport locat gener pack good news user',\n",
              " 'gs want higher',\n",
              " 'aap watch cs tell aap imo',\n",
              " 'bk ad long',\n",
              " 'user long nfx call expir tomorrow need greedi expir tomorrow',\n",
              " 'jnp ad long',\n",
              " 'cee min retest',\n",
              " 'aap trim short exposur level',\n",
              " 'aap lower high lower low intraday big near term support',\n",
              " 'cult appl die aap',\n",
              " 'zion look base breakout could touch bottom triangl though',\n",
              " 'hpq ocket sinc noon',\n",
              " 'hpq ook volum nice call',\n",
              " 'x took long exposur area still bullish look stock rip n dip rhythm want dri powder trade',\n",
              " 'user sweet money need anoth scale sell short csn',\n",
              " 'hpq man call option cheap',\n",
              " 'user user shot yhoo one go lololol',\n",
              " 'user lost hold first open recoup aap fb buy',\n",
              " 'te new short board util sector',\n",
              " 'user tr r x nice face check next hban green weekli triangl sell short',\n",
              " 'green weekli triangl hban sell short',\n",
              " 'user yea csn one whole portfolio scale alway fix cost end profit',\n",
              " 'bac wait pullback one today',\n",
              " 'aap move pivot today bullish tomorrow',\n",
              " 'aap get attent show strength might actual jump',\n",
              " 'es spi spx hold breakout es futur',\n",
              " 'aap someon catch leak news',\n",
              " 'wfm get much lift ralli look like possibl bear flag ad short',\n",
              " 'ed weekli triangl hek net profit',\n",
              " 'v interest revers today',\n",
              " 'bac cash never listen siren say keep r trade overnight gapp never promis',\n",
              " 'hpq much ask tomorrow',\n",
              " 'sdjpi breakout close isk ralli equiti trader front ski earn es spi spx',\n",
              " 'market underperform day thank ddd ssi posit stay long print aap kept green upsid come',\n",
              " 'green weekli triangl hek sell short',\n",
              " 'fs solar market ise percent deutsch bank predict',\n",
              " 'nice user huge volum ms breakout today',\n",
              " 'price action say aap go die earn multipl chanc break',\n",
              " 'bn bish announc increas holiday sale',\n",
              " 'cs nice move dma nice base structur daili weekli pattern',\n",
              " 'ocz ce vega nevada januari th th progress',\n",
              " 'user user user game readyscorego compani get canadiangrown',\n",
              " 'tell everyon user nice look divers list week high jnj mmm gs oc f wag de',\n",
              " 'alarm bell ring ddd investor ed flag highlight detail well research articl',\n",
              " 'aap market chief phil schiller resort cheaper iphon expand market share ete',\n",
              " 'squeez squeez slow grind higher continu spi es f wfc better deliv good tomorrow',\n",
              " 'hsa alway come back',\n",
              " 'user hsa good day',\n",
              " 'yhoo cramer kiss death thank bro get bac jd cramer nudg user kifmonst',\n",
              " 'mgm held long term resist user mgm caught ang user',\n",
              " 'aon continu good volum',\n",
              " 'nfx',\n",
              " 'zc good volum',\n",
              " 'es spx spi star hour',\n",
              " 'doji like candl close today f may signifi possibl retrac fib level watch close bull run',\n",
              " 'swhc continu accumul mar call pull back',\n",
              " 'isi continu volum go much higher easi big green move',\n",
              " 'user tso fool one day move esp larg drop trend stop say still good',\n",
              " 'sm decent base ook pois break',\n",
              " 'user nfx let wkli ca go vey green ed good hold',\n",
              " 'tso user attach show fib old resist stop upward move stay',\n",
              " 'cgi ove truck co bought pullback',\n",
              " 'qcom best play samsung snapdragon anti aap play best tech play',\n",
              " 'qcom anoth view w blue sky',\n",
              " 'student debt trillion dollar bubbl sm nni',\n",
              " 'cof approach key resist level break could acceler stock price',\n",
              " 'aon uptrend sinc juli thursday break suggest continu upmov',\n",
              " 'gdot w bullish macd cross along bullish si action matter time take',\n",
              " 'bac fail break uptrend continu',\n",
              " 'user financi xf alreadi ytd well fargo wfc might deliv moon today expect',\n",
              " 'one small step send cabl tv back qualiti content exclus nfx wait return ad',\n",
              " 'ong setup sm',\n",
              " 'user ddd system win cnet best ce award cubex printer',\n",
              " 'compq spx aap fb bac gd sv characterist success trader',\n",
              " 'nkd sina two breakout stock watch list today buy high sell higher',\n",
              " 'msft take gap fill jan',\n",
              " 'ms morgan stanley hit st bull signal target call dec',\n",
              " 'jcp cash flow distress sound good bs downgrad sell',\n",
              " 'market wrap video addit watch ist includ aeg di ipx ng onti qih st xxia',\n",
              " 'goog far good premarket averag help could get today',\n",
              " 'hpq think new mutual fund money go',\n",
              " 'x ad littl',\n",
              " 'dk move darva box keep eye volum',\n",
              " 'gf open new posit new uptrend start',\n",
              " 'bac effect wfc shod half hour moder bullish',\n",
              " 'user ng long setup',\n",
              " 'trend outsourc workforc extrem strong especi medic industri asgn lot room grow drogen',\n",
              " 'aap climb ish took small step backward wedg form breakout immin',\n",
              " 'hate reduc ddd posit today get big portfolio still bullish',\n",
              " 'aap took short exposur',\n",
              " 'would healthi desir eventu put littl handl shakeout climb present pivot stdi',\n",
              " 'ed weekli triangl mh net profit',\n",
              " 'time put goog warm lamp get heat languish',\n",
              " 'green weekli triangl mh sell short',\n",
              " 'goog averag trade lag actual near low want see strong support',\n",
              " 'oc ose mkt share jd look much lower price miss earn',\n",
              " 'wfc think go green point today',\n",
              " 'user dtradingtrad go sell depo',\n",
              " 'much top action short key short cat stop ike trade ot',\n",
              " 'mdso ong trail stop prior stop',\n",
              " 'talk low priuc stock fli fce buy tuesday gain way overbought',\n",
              " 'goe level aap',\n",
              " 'wpi whoopi stock nicknam',\n",
              " 'nfx develop hge cup handl pivot',\n",
              " 'dnb call volum spike ahead earn',\n",
              " 'anyon notic hge volum today thing push today might runner next week',\n",
              " 'mcp crater manag tell u biz suck sort red flag peopl call bullish bottom delusionn youondrug',\n",
              " 'user iv day today take look apo green day row sinc dec th rip tear',\n",
              " 'st watch list lien bit volum full day averag',\n",
              " 'apo green day row far new high yet today',\n",
              " 'look sustain upward momentum next friday option expir much interest hold aap',\n",
              " 'bac hate analyst scrap beauti day',\n",
              " 'big setup earli next week gnc probabl run earn market expect huge number eport feb long',\n",
              " 'bac least resili stock',\n",
              " 'cat hold level beauti today cup handl septemb januari good market beak ot',\n",
              " 'gd tri break line find support sma ike need gd hold',\n",
              " 'f possibl market close much power hood',\n",
              " 'green weekli triangl kto pdate',\n",
              " 'de approach next level short back lower fib old',\n",
              " 'f evel ii eas bit still allow possibl late day run',\n",
              " 'awk en fuego part',\n",
              " 'user welcom tk club',\n",
              " 'gtat healthi pullback low volum nice run heavi volum posit macd diverg ong',\n",
              " 'tab user alexcampbello street see henc lower goe',\n",
              " 'sold keep posit overnight',\n",
              " 'aap get price want ad short close',\n",
              " 'market look strong think financi catapult spx toward next week gs bac',\n",
              " 'breakout',\n",
              " 'ht bearish',\n",
              " 'green weekli triangl dn pdate',\n",
              " 'demand breast implant time high good bad economi agn old wallstrip',\n",
              " 'offhand includ growth en spf mho itb ad ttm htz dom wk emn po sca wo fet bcei fxi hdb eve',\n",
              " 'wk perf stock ddd dnkn ft invn ko nkd mov ntsp ax scco sca ssi v',\n",
              " 'nkd storm back week gain dog week',\n",
              " 'cstr found support ema nder sma tho look short ema add cloud break',\n",
              " 'pnra miss one yest short side short sma',\n",
              " 'nkd follow fb lead un resist user',\n",
              " 'although sound random aa earn like week spx next mo',\n",
              " 'short setup signal fire like sma reject weekli monthli time frame look like weaken',\n",
              " 'imm didnt come xma bb take next xma take share aap smart well time',\n",
              " 'user shadowtrad think fair analog vh beat beta less expens aap',\n",
              " 'bear flag',\n",
              " 'pcn bull flag pennant',\n",
              " 'dndn nice vol expans friday may worth watch buck',\n",
              " 'use border call showroom hope work tgt natur retail chang',\n",
              " 'aap trend emain give anoth sell signal',\n",
              " 'user sv super cheap stock appear get readi fill gap current price nice name',\n",
              " 'user jmixer ino sinc jan green weekli close long broker share borrow',\n",
              " 'user jmixer wait charg weapon ino',\n",
              " 'ddd nice st pennant pattern ook breakout',\n",
              " 'iwd short',\n",
              " 'aap korea hot stock g display fall talk appl order cut',\n",
              " 'sigh aap continu keep qqq love see aap rebound neg news',\n",
              " 'aap imm appl reduc compon order iphon weak demand wsj say parti ove',\n",
              " 'aap love',\n",
              " 'song aap bull',\n",
              " 'today could day aap break rest market care chang divorc qqq spi',\n",
              " 'aap thing ask today day buy feb put',\n",
              " 'aap short cover blow system would rout nyseaca est offerd',\n",
              " 'aap short cover',\n",
              " 'cs play lower',\n",
              " 'well done short aapl friday gutsi got news need',\n",
              " 'aap great long term buy ignor nois',\n",
              " 'thank amzn price fire nov et phone wireless servic custom win',\n",
              " 'jnp act well ad back',\n",
              " 'aap bearish news bottom start new downleg',\n",
              " 'amzn momentum better buy aap goog close might push quickli',\n",
              " 'green monthli triangl chtp net profit',\n",
              " 'pcn wait close get involv name watch vome confirm uptrend continu',\n",
              " 'aap send remind nok',\n",
              " 'cmg still good low risk reward short descend trend line core short bear call',\n",
              " 'coh close extrem bullish watch',\n",
              " 'hpq head back imo fund oad',\n",
              " 'bac swing trade protect profit',\n",
              " 'remain convinc either appl stock aap anoth five year sold alreadi middl ground',\n",
              " 'long aap break even eaiest sell dividend hike happen pe right fy ep',\n",
              " 'csco c mon',\n",
              " 'aapl symmetr triangl min look topsid breakout',\n",
              " 'aap drop sinc sep b c concern mayb bump android phone sale mathfail oversel',\n",
              " 'aapl long per earlier tweet topsid breakout st',\n",
              " 'aap appear drag qqq spi stockact',\n",
              " 'amzn snta ana rip today even x set new time high',\n",
              " 'fom break friday high strong continu higher like next resist',\n",
              " 'vv ong set',\n",
              " 'ook long de fix miracul hpq done de qqq xk',\n",
              " 'aap go interest see pop squeez jan rd see posit report',\n",
              " 'week later stock trend bullish shale play apc he cop mo ds b',\n",
              " 'user rare earth busi fundament terribl right mcp sort issu top compel',\n",
              " 'user xraystocktrad great dividend pay continu upsid eager see next acquisit cvx',\n",
              " 'user krisanti mention aap sent remind nok',\n",
              " 'drug back lanc gone user arg cap health well pfe jnj hit new week high morn',\n",
              " 'marc benioff swagger incom statement cm',\n",
              " 'green weekli triangl sho pdate',\n",
              " 'user anf trigger buy price nice min candl need build intra day momentum',\n",
              " 'hbi watch list briefli went line pule back volum ok full day averag',\n",
              " 'xxia min found help watch period ema pink use gap rule protect profit',\n",
              " 'aap fill upsid gap within hr take etern close downsid gap environ clearli bearish',\n",
              " 'nice de',\n",
              " 'gw higher volum way news pump stock sound bullish',\n",
              " 'student nobiano made roi bt trade great sir',\n",
              " 'user say might doubl money close end fund gsvc year twitter pull good ipo',\n",
              " 'bac fib level',\n",
              " 'f buy imo price target feb option',\n",
              " 'tripl bottom rare third time aap trade near last month still mani aap fanboy aap',\n",
              " 'hedgestreettrad son',\n",
              " 'hpq call happi',\n",
              " 'hpq trade multipl oad freak boat imo',\n",
              " 'awesom monday link swap risk around financi blogospher via user aap jo ga',\n",
              " 'go privat new go public de',\n",
              " 'user ive look strong breakout play',\n",
              " 'csco msh msh msh c mon mon',\n",
              " 'etail drill rais question xy xt th spx spi gp',\n",
              " 'f coil hard right',\n",
              " 'k ong trail stop prior stop',\n",
              " 'si vfc alcanza lo reconfirmaci n de la tendencia que lleva la sesi n provechando el ralli alcista de final de sesi n',\n",
              " 'de x vol mani peopl gonna lose butt buyout',\n",
              " 'think way mani peopl bought dip know aapl plan equal mess',\n",
              " 'jeff bezo wonder day usual thin bastard amzn',\n",
              " 'csco oo',\n",
              " 'aap let see say goodby today',\n",
              " 'total help beat revenu yoga bore western world bore well dorito',\n",
              " 'take aap index hold everyon back slacker',\n",
              " 'green weekli triangl sonc sell short',\n",
              " 'user de would fill huge gap lol good luck',\n",
              " 'ssi websit investor relat page use morningstar stat quot mkt cap mon statist wrong r share way',\n",
              " 'share fom dri accumul continu daili technic indic bullish',\n",
              " 'abc clear nice base drug pjp spx spi',\n",
              " 'user error morn data updat share outstand equal million million mkt cap bil bil',\n",
              " 'user stumbl upon data discrep ssi mon yhoo ssi websit say share realli share',\n",
              " 'snt get put open ealli pleas decis came hour allow much better entri posit',\n",
              " 'sfi would start trade second line start',\n",
              " 'typic set',\n",
              " 'inap ride extend base bolli deviat right room upper bolli',\n",
              " 'aap need hold could see lower price earn within coupl wk',\n",
              " 'hpq oad everi dip everyon want',\n",
              " 'user aap hit hedg fund margin leverag highest level sinc question mani hedg fund blew today',\n",
              " 'aapl p k',\n",
              " 'gnc perk despit gener market weak one better risk reward long setup long',\n",
              " 'user pi nice earli action watch',\n",
              " 'po perk strong specialti chemic stock',\n",
              " 'jpm want go higher xf spi',\n",
              " 'de outsid bband believ pull bit',\n",
              " 'bk want buy lower hourli show improv ad long',\n",
              " 'aap took remain short',\n",
              " 'tol find support top cloud',\n",
              " 'zc broke last week held well pull back low volum keep eye possibl breakout',\n",
              " 'csn sell short scale',\n",
              " 'new blog post momentum monday aap dip buyer miss market mojo',\n",
              " 'amp sell short scale',\n",
              " 'sure everyon short aap make money everyon go jump market crash debt ceil perfect',\n",
              " 'great move guggenheim hire ex interim ceo yhoo',\n",
              " 'amzn pretti strong intraday support still support break',\n",
              " 'apkt back get interest',\n",
              " 'aap earn',\n",
              " 'look int clear time high th time charm',\n",
              " 'user eras open drive still plenti room let consolid',\n",
              " 'goog nice fast move low',\n",
              " 'mkt fat aap crater thru huge psycholog level tell tape strong spi dontbeshort',\n",
              " 'amzn rememb hold import break continu watch long add break yesterday high',\n",
              " 'user heo beauti flag form eventu',\n",
              " 'depo sell short scale next level',\n",
              " 'aap studi eason appl fail go stdi',\n",
              " 'user nvda grow cash cow p eoy xk amd stx qcom intc technolog',\n",
              " 'path see real compani new drug approv valu lost shorter manipul',\n",
              " 'thc watch list set well yesterday today line volum ave full day',\n",
              " 'aj watch list trigger cent yesterday continu today volum',\n",
              " 'odp break resist',\n",
              " 'aapl go level aapl trade today daytrad long side first quarter buy',\n",
              " 'reason tri get cute tri aapl long stick trend rev hold',\n",
              " 'confirm nice today see doubl bottom daili push day move averag good action',\n",
              " 'tab mikel h william help acquisit viasystem group denni f strigl use coo verizon com ceo verizon wirless',\n",
              " 'flip aap trade point never got meati trade still obviusli long chip away',\n",
              " 'user aap world appl expect order compon million iphon handset season soft march quarter',\n",
              " 'swhc obama biden speak tomorrow gun control legisl',\n",
              " 'user lot want cover complet k share amp',\n",
              " 'cmg excit stock late howev upward trend still tact consist push day averag key',\n",
              " 'ead stock ead stock market esiient day indic alli continu es f gnc nsm eve ddd sti nf',\n",
              " 'apo accumul bounc critic support day tell like continu higher',\n",
              " 'aap broke downward triangl come massiv head shoulder thing toast',\n",
              " 'aap number one problem earn expect way high smart money know',\n",
              " 'chk squeezi',\n",
              " 'vv break flag setup macd cross ong',\n",
              " 'chk min kelt bband fire earlier lunch',\n",
              " 'hpq come back de get bought hpq ocket',\n",
              " 'aap dump close still see go sub mayb earn report wk two gy town',\n",
              " 'aap mani peopl believ appl comment stock declin b ec call quiet period reason',\n",
              " 'dgi ddd act strong end hod decent volum end',\n",
              " 'ed monthli triangl cytx net profit',\n",
              " 'green weekli triangl cytx sell short',\n",
              " 'wmb might fill gap revers',\n",
              " 'fs insid day add long break stop live littl area',\n",
              " 'aap probabl rise test trendlin st mean revers pt',\n",
              " 'wfm look like bear flag short respect flag exit close',\n",
              " 'bcei',\n",
              " 'dcth back like volatil low price one',\n",
              " 'amzn still uptrend motion buy dip',\n",
              " 'nfx next resist level',\n",
              " 'pcn long setup',\n",
              " 'aap break year support line appl would depend itv take wk h',\n",
              " 'vg consolid insid larg ascend triangl w tp around breakout watch',\n",
              " 'aap trade close point figur trend line support next target trend support',\n",
              " 'bac yep b good day financi soon volum ise p',\n",
              " 'cie cox cmg get smack open',\n",
              " 'ssi postpon q releas feb approx march th',\n",
              " 'check list top perform sinc aap peak user dog like fs de nfx pleas',\n",
              " 'new post posit earn cost contain continu propel ms',\n",
              " 'goog amzn show earli weak',\n",
              " 'amzn take yesterday low ong better care',\n",
              " 'aap revers earli gain qqq realli big problem',\n",
              " 'oabc ong trail stop prior stop',\n",
              " 'twc way potenti breakout channel tgt wht u think user',\n",
              " 'nvda break min trend',\n",
              " 'aap ong posit appl reach maximum day stop loss',\n",
              " 'ceg high fast one well due pull back key',\n",
              " 'aap appl reach chang stop oss put also chanc go long',\n",
              " 'ann period hammer ook good month pattern',\n",
              " 'bac p p step step esist',\n",
              " 'dip buyer aliv well everywher user dip buyer aliv well jpm',\n",
              " 'nvt vs oc went w oc vol differ today roll end wk oc opinion could wrong',\n",
              " 'green weekli triangl gpn pdate',\n",
              " 'bac today',\n",
              " 'cndo ook one',\n",
              " 'nvt unusu increas socialvolum',\n",
              " 'ong cf',\n",
              " 'fio ioscal announc today open comput summit hyperscal spin disk replac anoth game changer',\n",
              " 'user twitter follow bullish bearish aap want know bullish cautiou',\n",
              " 'nvda ih daili oversold',\n",
              " 'deck prove bullish confirm bounc day increas volum',\n",
              " 'aap still long bull charg today',\n",
              " 'user nfx ise wedg normal bearish close confirm nice one',\n",
              " 'csn catch bottom bought weird dip hope manipul mean good thing come',\n",
              " 'gs solid move higher new high today strong volum',\n",
              " 'nyni move right along',\n",
              " 'student stephani n said hoy gacamo second made oi nfx user tradesmart',\n",
              " 'ed weekli triangl csn ong',\n",
              " 'aap week support',\n",
              " 'wcg ong today swing',\n",
              " 'aap one reliabl pattern come across surpris intraday pattern studi',\n",
              " 'yhoo volum big close today give enough fire make new week high later week',\n",
              " 'hpq open tomorrow',\n",
              " 'user hey great call hpq think fund buy',\n",
              " 'bac imho think gap e',\n",
              " 'hpq go nail mofo hpq go spotlight tonight ook eal gapper tomorrow',\n",
              " 'swhc bet pm mid high',\n",
              " 'aap long call atio back spread',\n",
              " 'user hpq doubl top taken close watch learn',\n",
              " 'g swhc market may figur legisl gun pass much shoot time load',\n",
              " 'bac ike told aftermrkt good setp tmorrow',\n",
              " 'goog daili chao event look good green line move white like dec move',\n",
              " 'green weekli triangl cytx pdate',\n",
              " 'hpq autonomi look total loss could sell wish hpq strong ptrend oad',\n",
              " 'appl fall aap',\n",
              " 'hpq mani upgrad tomorrow assum autonomi worth someth',\n",
              " 'hpq nice close imo',\n",
              " 'fod cover net profit ugli triangl fod',\n",
              " 'csn target remain data news',\n",
              " 'dva realli nice break dt line volum today',\n",
              " 'ssi exuber stock gener million oper cash flow mo trade billion u could say top',\n",
              " 'big win broker new mini option bring big chang trader via user spi aap goog amzn gd',\n",
              " 'wmt buy signal easi math babi good discount',\n",
              " 'thought call earli scream fashion makeov wow look good',\n",
              " 'jpm whale trader',\n",
              " 'watch ba',\n",
              " 'cmg keep level mind bounc follow leg bounc leg',\n",
              " 'v',\n",
              " 'disney new infin game go huge take di atvi',\n",
              " 'ba come back haunt year say eap sow',\n",
              " 'pgx hype spot b resist daili til sma ish sma slide',\n",
              " 'dn first hint trendlin break upsid',\n",
              " 'aap go confirm theori sell came insid info last day cat bag sucker left bullish',\n",
              " 'aap anoth downgrad broken',\n",
              " 'bac bank america earn stronger expect',\n",
              " 'goog amzn call watch list day trade take break aap',\n",
              " 'aig go premarket somebodi know someth know',\n",
              " 'bac sinc earn seem impact price break card good longterm hold',\n",
              " 'look good call',\n",
              " 'user goog put option year high interest',\n",
              " 'trade setup akam',\n",
              " 'trade setup aa',\n",
              " 'trade setup cf',\n",
              " 'ow pt hit resist',\n",
              " 'sanm watch list volum ave full day slightli line',\n",
              " 'hpq explod today come imo',\n",
              " 'ceg confirm expect ike crack',\n",
              " 'garden wall browser amzn aap',\n",
              " 'american apparel app present',\n",
              " 'csn correct thermodox nanosocc ball anti vascular well anti neoplast',\n",
              " 'pi daili thx head user',\n",
              " 'gme look good go',\n",
              " 'wow saw price next week e goog c',\n",
              " 'rais stop ow right today low around',\n",
              " 'wn ong trail stop prior stop',\n",
              " 'demark come back prop aap yesterday classic dead cat bounc valu stock need go lower find size buyer',\n",
              " 'ng like stewi mention first pullbk would b good nd entri',\n",
              " 'ana',\n",
              " 'bookmark arri page moonshot matter must option market exist goog',\n",
              " 'swi drink safeway store brand columbian whole bean coffe sbx cup',\n",
              " 'back bk long nice reaction earn make runaway measur type gap',\n",
              " 'ko kept wish first cousin look good',\n",
              " 'tivo hold well morn believ long setup',\n",
              " 'smb adar weak today fast adtn cam',\n",
              " 'ssi add million market cap today',\n",
              " 'user ana look like coil set',\n",
              " 'hott fngn pim fnf moonshot',\n",
              " 'wmt h struggl dma well mm target handl gap fil',\n",
              " 'ipx biotech watchlist vol full day ave move toward gap day need vol',\n",
              " 'swi wow number bear week scale littl today',\n",
              " 'aap lot offer eg jan put delta put could push stock creat support',\n",
              " 'wcg everybodi look someth buy basement trade w fundament',\n",
              " 'amzn tri break higher',\n",
              " 'user intc yep follow money look like someth good come pipelin',\n",
              " 'ba shot',\n",
              " 'green weekli monthli triangl isi sell short',\n",
              " 'gs explod last hour green bar sinc',\n",
              " 'bac turn run spi watch eod evers',\n",
              " 'faf look good pivot rang volum today see close get day high',\n",
              " 'user realli buy card christma',\n",
              " 'c big pop bac follow',\n",
              " 'wpi insid day crack downsid alreadi short add',\n",
              " 'znga lot support sma bot share fall low volum',\n",
              " 'gevo watch break test recent high',\n",
              " 'ssi voyant advisor neg report see high risk earn earn risk scale',\n",
              " 'ssi nov report piper jaffray put new price target report dougherti decemb report put tgt',\n",
              " 'user bac consolid progress yep consolid go emot anonym take hard',\n",
              " 'zion cup handl pattern stock would confirm pattern break',\n",
              " 'gevo broke bull flag pattern upsid today move accompani high volum',\n",
              " 'ad hold aap bid fb ah also hold ddd cash',\n",
              " 'bac hawken price target estim compani earn cent',\n",
              " 'nice one user marketshar margin aap dilemma',\n",
              " 'dpz nice intraday upward revers ad bull flag keep watch move',\n",
              " 'tex anoth nice bull flag watch macd signal next breakout',\n",
              " 'wh also strong day today look readi next leg',\n",
              " 'gmc keep nice consolid make big move soon macd si turn',\n",
              " 'aj realli strong caution overbought si declin macd',\n",
              " 'cen nice gap support look readi head higher',\n",
              " 'wynn nice bullish consolid could pop soon',\n",
              " 'vs similar pattern wynn bull flag build keep watch',\n",
              " 'clear downtrend sign relief',\n",
              " 'also healthi fell back dt line break si weak macd turn',\n",
              " 'nfx hammer breakout back test watch tomorrow bounc',\n",
              " 'intc anyon thought late algo trade option oi affect stock price tomorrow guess close',\n",
              " 'need bodi part ihi syk mdt zmh user nice call bsx',\n",
              " 'aap qih cheapest transpar china play appl avoid soe manag decis base guanxi parti interest',\n",
              " 'user tran user said mani time aap big money shift toward stock',\n",
              " 'ow break new week high',\n",
              " 'g quiet late good get pop',\n",
              " '',\n",
              " 'intel earn capex mobil matter ep mean pc biz declin news intc hpq aap de amh',\n",
              " 'new blog post watchlist f kbh gpx ssq sbx csod hd wt ocn ebay tex chk itg',\n",
              " 'bac user hope consolid level drop stop support nxt day come back imho',\n",
              " 'hot oser fn tsx intc amn jd',\n",
              " 'geo nice pop morn move stop breakeven',\n",
              " 'long aci',\n",
              " 'cee clear chase enter monday ong',\n",
              " 'adb continu weaken follow market short break user',\n",
              " 'v far found support ceil old channel look good hold',\n",
              " 'user adb continu weaken follow market short break user',\n",
              " 'shw ong trail stop stop',\n",
              " 'bac fulli engag within secondari reaction high point target zone',\n",
              " 'bac still see get back possibl lower overal market pull back next month',\n",
              " 'user g two week away earn readi rocket within two day',\n",
              " 'aap area like fail',\n",
              " 'wh gap fill',\n",
              " 'monday aap said pin still confid close pin take look crazi oi spike',\n",
              " 'stt strong bounc today continu make new high share one day nice run',\n",
              " 'csn anoth sa articl ong',\n",
              " 'aap percol perhap push soon',\n",
              " 'swi corn run bear get cob swi',\n",
              " 'aap wall st hate stock current care short anyth short disast view posit bit riski long mainev',\n",
              " 'fio insight analysi fusion io avoid commodit via user',\n",
              " 'mcp sorri kid nissan siemen get mine busi fun buy whatev somebodi tri unload',\n",
              " 'csn know crazi thought goe green eod',\n",
              " 'schw break flag',\n",
              " 'gs ask pummel manag cannot miss afraid miss train',\n",
              " 'wh nice round revers pattern intraday sinc gap fill',\n",
              " 'es f spike bottom ead stock comatos still lead wake p ocn sbgi nsm five gnc make say hmmmm',\n",
              " 'amat reach high overbought condit wait pullback enter long',\n",
              " 'aci option trader buy k feb p hard offer vs oi earn feb th bmo could hedg long stk',\n",
              " 'zion stalk cup handl potenti breakout w anem volum handl breakout candid',\n",
              " 'vfc short one bull need hold support break could signific',\n",
              " 'bac anyon think might slush fall today',\n",
              " 'big boy stock ge start build construct right side current week cup base',\n",
              " 'aap possibl exist',\n",
              " 'egard go kss wmt tgt tjx oss see mani copycat cloth item remind cox sub',\n",
              " 'dnkn see lot talk one put anoth nice day steadi uptrend',\n",
              " 'green weekli triangl essx pdate',\n",
              " 'applesoft differ time aap',\n",
              " 'green weekli triangl hban pdate',\n",
              " 'ltra base tek ltratech step stepper',\n",
              " 'dec ge long ia stock plagu world love tell head knew head',\n",
              " 'evers confirm close nice day also confirm today imm chk other like',\n",
              " 'wk portfolio ddd dnkn ft invn ko nkd mov ntsp ax scco sca ssi v',\n",
              " ...]"
            ]
          },
          "metadata": {},
          "execution_count": 307
        }
      ]
    },
    {
      "cell_type": "markdown",
      "source": [
        "##BoW with NN"
      ],
      "metadata": {
        "id": "DO9CHSTz_xlN"
      }
    },
    {
      "cell_type": "code",
      "source": [
        "from sklearn.feature_extraction.text import CountVectorizer\n",
        "cv = CountVectorizer()\n",
        "X = cv.fit_transform(corpus).toarray()\n",
        "y = df.iloc[:, 1].values"
      ],
      "metadata": {
        "id": "25qDza2O0rep"
      },
      "execution_count": 308,
      "outputs": []
    },
    {
      "cell_type": "code",
      "source": [
        "X.shape"
      ],
      "metadata": {
        "colab": {
          "base_uri": "https://localhost:8080/"
        },
        "id": "JxtcQVJ004JT",
        "outputId": "0e4ee8bd-79d8-45e6-b74d-d58bc6ec0f60"
      },
      "execution_count": 309,
      "outputs": [
        {
          "output_type": "execute_result",
          "data": {
            "text/plain": [
              "(5791, 7163)"
            ]
          },
          "metadata": {},
          "execution_count": 309
        }
      ]
    },
    {
      "cell_type": "code",
      "source": [
        "y.shape"
      ],
      "metadata": {
        "colab": {
          "base_uri": "https://localhost:8080/"
        },
        "id": "v80zooTY0z9x",
        "outputId": "0e244e73-2459-44b9-db87-a74e2be30e8b"
      },
      "execution_count": 310,
      "outputs": [
        {
          "output_type": "execute_result",
          "data": {
            "text/plain": [
              "(5791,)"
            ]
          },
          "metadata": {},
          "execution_count": 310
        }
      ]
    },
    {
      "cell_type": "code",
      "source": [
        "random.seed(170204048)"
      ],
      "metadata": {
        "id": "tJfmkIhAK7Ko"
      },
      "execution_count": 311,
      "outputs": []
    },
    {
      "cell_type": "code",
      "source": [
        "from sklearn.model_selection import train_test_split\n",
        "X_train, X_test, y_train, y_test = train_test_split(X, y, test_size = 0.2, random_state = 0)"
      ],
      "metadata": {
        "id": "w8lifosg1kAr"
      },
      "execution_count": 312,
      "outputs": []
    },
    {
      "cell_type": "code",
      "source": [
        "df.Sentiment.unique()"
      ],
      "metadata": {
        "colab": {
          "base_uri": "https://localhost:8080/"
        },
        "id": "6GU1iOSi2cXj",
        "outputId": "d63f0b39-9958-4533-8eb8-3177968c9d4f"
      },
      "execution_count": 313,
      "outputs": [
        {
          "output_type": "execute_result",
          "data": {
            "text/plain": [
              "array([ 1, -1])"
            ]
          },
          "metadata": {},
          "execution_count": 313
        }
      ]
    },
    {
      "cell_type": "code",
      "source": [
        "from tensorflow.keras.utils import to_categorical\n",
        "y_train = to_categorical(y_train, 2)\n",
        "y_test = to_categorical(y_test, 2)\n",
        "y_train.shape"
      ],
      "metadata": {
        "colab": {
          "base_uri": "https://localhost:8080/"
        },
        "id": "0YRGI7gj2PZ_",
        "outputId": "f5d7e9b7-cb2b-4f37-ac4b-f4f680fd2cf4"
      },
      "execution_count": 314,
      "outputs": [
        {
          "output_type": "execute_result",
          "data": {
            "text/plain": [
              "(4632, 2)"
            ]
          },
          "metadata": {},
          "execution_count": 314
        }
      ]
    },
    {
      "cell_type": "code",
      "source": [
        "X_train.shape"
      ],
      "metadata": {
        "colab": {
          "base_uri": "https://localhost:8080/"
        },
        "id": "IMcr3rjO3ApV",
        "outputId": "e4a0a4e8-c260-4f25-8e34-309a4cf2b2c4"
      },
      "execution_count": 315,
      "outputs": [
        {
          "output_type": "execute_result",
          "data": {
            "text/plain": [
              "(4632, 7163)"
            ]
          },
          "metadata": {},
          "execution_count": 315
        }
      ]
    },
    {
      "cell_type": "code",
      "source": [
        "ann = tf.keras.models.Sequential()\n",
        "ann.add(tf.keras.layers.Dense(units=100, activation='relu'))\n",
        "ann.add(tf.keras.layers.Dense(units=100, activation='sigmoid'))\n",
        "ann.add(tf.keras.layers.Dense(units=2, activation='softmax'))\n",
        "ann.compile(optimizer = 'SGD', loss = 'binary_crossentropy', metrics = ['accuracy'])"
      ],
      "metadata": {
        "id": "lw3hCxBY4ll_"
      },
      "execution_count": 316,
      "outputs": []
    },
    {
      "cell_type": "code",
      "source": [
        "history = ann.fit(X_train, y_train, epochs = 5,batch_size=100)"
      ],
      "metadata": {
        "colab": {
          "base_uri": "https://localhost:8080/"
        },
        "id": "9SpoyDay11px",
        "outputId": "cccf299f-77c4-4a81-d1a2-1dc150a38bc3"
      },
      "execution_count": 317,
      "outputs": [
        {
          "output_type": "stream",
          "name": "stdout",
          "text": [
            "Epoch 1/5\n",
            "47/47 [==============================] - 1s 12ms/step - loss: 0.2108 - accuracy: 1.0000\n",
            "Epoch 2/5\n",
            "47/47 [==============================] - 1s 13ms/step - loss: 0.0965 - accuracy: 1.0000\n",
            "Epoch 3/5\n",
            "47/47 [==============================] - 1s 12ms/step - loss: 0.0617 - accuracy: 1.0000\n",
            "Epoch 4/5\n",
            "47/47 [==============================] - 1s 13ms/step - loss: 0.0452 - accuracy: 1.0000\n",
            "Epoch 5/5\n",
            "47/47 [==============================] - 1s 12ms/step - loss: 0.0355 - accuracy: 1.0000\n"
          ]
        }
      ]
    },
    {
      "cell_type": "code",
      "source": [
        "print(\"Evaluate on test data\")\n",
        "results = ann.evaluate(X_test, y_test, batch_size=100)\n",
        "print(\"test loss, test acc:\", results)"
      ],
      "metadata": {
        "colab": {
          "base_uri": "https://localhost:8080/"
        },
        "id": "lpLlSswlGK0H",
        "outputId": "bee8a2f6-6dc0-4adb-c1b4-c4d37fcd2632"
      },
      "execution_count": 318,
      "outputs": [
        {
          "output_type": "stream",
          "name": "stdout",
          "text": [
            "Evaluate on test data\n",
            "12/12 [==============================] - 0s 7ms/step - loss: 0.0319 - accuracy: 1.0000\n",
            "test loss, test acc: [0.03189673647284508, 1.0]\n"
          ]
        }
      ]
    },
    {
      "cell_type": "code",
      "source": [
        "# list all data in history\n",
        "print(history.history.keys())\n",
        "# summarize history for accuracy\n",
        "plt.plot(history.history['accuracy'])\n",
        "plt.title('model accuracy')\n",
        "plt.ylabel('accuracy')\n",
        "plt.xlabel('epoch')\n",
        "plt.legend(['train', 'test'], loc='upper left')\n",
        "plt.show()\n",
        "# summarize history for loss\n",
        "plt.plot(history.history['loss'])\n",
        "plt.title('model loss')\n",
        "plt.ylabel('loss')\n",
        "plt.xlabel('epoch')\n",
        "plt.legend(['train', 'test'], loc='upper left')\n",
        "plt.show()"
      ],
      "metadata": {
        "colab": {
          "base_uri": "https://localhost:8080/",
          "height": 90
        },
        "id": "crV2UxYKLjx3",
        "outputId": "dec165f3-0a94-444d-a557-1373aea102f4"
      },
      "execution_count": 319,
      "outputs": [
        {
          "output_type": "stream",
          "name": "stdout",
          "text": [
            "dict_keys(['loss', 'accuracy'])\n"
          ]
        },
        {
          "output_type": "display_data",
          "data": {
            "image/png": "[encoded data removed]",
            "text/plain": [
              "<Figure size 432x288 with 1 Axes>"
            ]
          },
          "metadata": {
            "needs_background": "light"
          }
        },
        {
          "output_type": "display_data",
          "data": {
            "image/png": "[encoded data removed]",
            "text/plain": [
              "<Figure size 432x288 with 1 Axes>"
            ]
          },
          "metadata": {
            "needs_background": "light"
          }
        }
      ]
    },
    {
      "cell_type": "code",
      "source": [
        "from sklearn.metrics import classification_report\n",
        "pred1 = ann.predict(X_test, batch_size=100, verbose=1)\n",
        "predicted1 = np.argmax(pred1, axis=1)\n",
        "report1 = classification_report(np.argmax(y_test, axis=1), predicted1)\n",
        "print(report1)"
      ],
      "metadata": {
        "colab": {
          "base_uri": "https://localhost:8080/"
        },
        "id": "s-0nujUfL564",
        "outputId": "a01b1e8c-faef-4ef0-c8db-e90960fc4b1d"
      },
      "execution_count": 320,
      "outputs": [
        {
          "output_type": "stream",
          "name": "stdout",
          "text": [
            "12/12 [==============================] - 0s 7ms/step\n",
            "              precision    recall  f1-score   support\n",
            "\n",
            "           1       1.00      1.00      1.00      1159\n",
            "\n",
            "    accuracy                           1.00      1159\n",
            "   macro avg       1.00      1.00      1.00      1159\n",
            "weighted avg       1.00      1.00      1.00      1159\n",
            "\n"
          ]
        }
      ]
    },
    {
      "cell_type": "markdown",
      "source": [
        "## TF-IDF with NN"
      ],
      "metadata": {
        "id": "weCq21Yd78p6"
      }
    },
    {
      "cell_type": "code",
      "source": [
        "from sklearn.feature_extraction.text import TfidfVectorizer\n",
        "vectorizer = TfidfVectorizer()\n",
        "X2 = vectorizer.fit_transform(corpus).toarray()\n",
        "vectorizer.get_feature_names_out()\n",
        "y2 = df.iloc[:, 1].values"
      ],
      "metadata": {
        "id": "HwN9XHlmAVzR"
      },
      "execution_count": 321,
      "outputs": []
    },
    {
      "cell_type": "code",
      "source": [
        "X2.shape"
      ],
      "metadata": {
        "colab": {
          "base_uri": "https://localhost:8080/"
        },
        "outputId": "c3c2debc-fb1c-4ca8-d3c4-29c3323caab6",
        "id": "KX9LfiJ-AVzT"
      },
      "execution_count": 322,
      "outputs": [
        {
          "output_type": "execute_result",
          "data": {
            "text/plain": [
              "(5791, 7163)"
            ]
          },
          "metadata": {},
          "execution_count": 322
        }
      ]
    },
    {
      "cell_type": "code",
      "source": [
        "y2.shape"
      ],
      "metadata": {
        "colab": {
          "base_uri": "https://localhost:8080/"
        },
        "outputId": "5efca010-1377-432a-8723-ab3c0279b684",
        "id": "xeZigyYuAVzV"
      },
      "execution_count": 323,
      "outputs": [
        {
          "output_type": "execute_result",
          "data": {
            "text/plain": [
              "(5791,)"
            ]
          },
          "metadata": {},
          "execution_count": 323
        }
      ]
    },
    {
      "cell_type": "code",
      "source": [
        "random.seed(170204048)"
      ],
      "metadata": {
        "id": "CNbXQfHlK_ZG"
      },
      "execution_count": 324,
      "outputs": []
    },
    {
      "cell_type": "code",
      "source": [
        "from sklearn.model_selection import train_test_split\n",
        "X_train2, X_test2, y_train2, y_test2 = train_test_split(X2, y2, test_size = 0.2, random_state = 0)"
      ],
      "metadata": {
        "id": "93NEOgU3AVzX"
      },
      "execution_count": 325,
      "outputs": []
    },
    {
      "cell_type": "code",
      "source": [
        "from tensorflow.keras.utils import to_categorical\n",
        "y_train2 = to_categorical(y_train2, 2)\n",
        "y_test2 = to_categorical(y_test2, 2)\n",
        "y_train2.shape"
      ],
      "metadata": {
        "colab": {
          "base_uri": "https://localhost:8080/"
        },
        "outputId": "ec2f5e66-9fcc-458c-ffd3-e8e14eef05ec",
        "id": "hHJDhzyPAVza"
      },
      "execution_count": 326,
      "outputs": [
        {
          "output_type": "execute_result",
          "data": {
            "text/plain": [
              "(4632, 2)"
            ]
          },
          "metadata": {},
          "execution_count": 326
        }
      ]
    },
    {
      "cell_type": "code",
      "source": [
        "X_train2"
      ],
      "metadata": {
        "colab": {
          "base_uri": "https://localhost:8080/"
        },
        "outputId": "8d4df0d0-8ed4-4e26-c776-d73e05fb9c83",
        "id": "kKtPKjIRAVzc"
      },
      "execution_count": 327,
      "outputs": [
        {
          "output_type": "execute_result",
          "data": {
            "text/plain": [
              "array([[0., 0., 0., ..., 0., 0., 0.],\n",
              "       [0., 0., 0., ..., 0., 0., 0.],\n",
              "       [0., 0., 0., ..., 0., 0., 0.],\n",
              "       ...,\n",
              "       [0., 0., 0., ..., 0., 0., 0.],\n",
              "       [0., 0., 0., ..., 0., 0., 0.],\n",
              "       [0., 0., 0., ..., 0., 0., 0.]])"
            ]
          },
          "metadata": {},
          "execution_count": 327
        }
      ]
    },
    {
      "cell_type": "code",
      "source": [
        "ann2 = tf.keras.models.Sequential()\n",
        "ann2.add(tf.keras.layers.Dense(units=100, activation='relu'))\n",
        "ann2.add(tf.keras.layers.Dense(units=100, activation='sigmoid'))\n",
        "ann2.add(tf.keras.layers.Dense(units=2, activation='softmax'))\n",
        "ann2.compile(optimizer = 'SGD', loss = 'binary_crossentropy', metrics = ['accuracy'])"
      ],
      "metadata": {
        "id": "R2cd8_MpAVzd"
      },
      "execution_count": 328,
      "outputs": []
    },
    {
      "cell_type": "code",
      "source": [
        "history2 = ann2.fit(X_train2, y_train2, epochs = 5,batch_size=100)"
      ],
      "metadata": {
        "colab": {
          "base_uri": "https://localhost:8080/"
        },
        "outputId": "ba235bb0-fa34-4a8c-fb46-4b5081169dd5",
        "id": "7uvGbj3AAVzf"
      },
      "execution_count": 329,
      "outputs": [
        {
          "output_type": "stream",
          "name": "stdout",
          "text": [
            "Epoch 1/5\n",
            "47/47 [==============================] - 1s 10ms/step - loss: 0.4140 - accuracy: 0.8705\n",
            "Epoch 2/5\n",
            "47/47 [==============================] - 0s 11ms/step - loss: 0.1301 - accuracy: 1.0000\n",
            "Epoch 3/5\n",
            "47/47 [==============================] - 1s 11ms/step - loss: 0.0745 - accuracy: 1.0000\n",
            "Epoch 4/5\n",
            "47/47 [==============================] - 0s 10ms/step - loss: 0.0518 - accuracy: 1.0000\n",
            "Epoch 5/5\n",
            "47/47 [==============================] - 0s 10ms/step - loss: 0.0396 - accuracy: 1.0000\n"
          ]
        }
      ]
    },
    {
      "cell_type": "code",
      "source": [
        "print(\"Evaluate on test data\")\n",
        "results = ann2.evaluate(X_test2, y_test2, batch_size=100)\n",
        "print(\"test loss, test acc:\", results)"
      ],
      "metadata": {
        "colab": {
          "base_uri": "https://localhost:8080/"
        },
        "id": "lchS5hVnGuMy",
        "outputId": "5f01381b-ae68-432e-b8a0-b6fcb4d9e1ce"
      },
      "execution_count": 330,
      "outputs": [
        {
          "output_type": "stream",
          "name": "stdout",
          "text": [
            "Evaluate on test data\n",
            "12/12 [==============================] - 0s 6ms/step - loss: 0.0352 - accuracy: 1.0000\n",
            "test loss, test acc: [0.03518909215927124, 1.0]\n"
          ]
        }
      ]
    },
    {
      "cell_type": "code",
      "source": [
        "from sklearn.metrics import classification_report\n",
        "pred2 = ann2.predict(X_test2, batch_size=100, verbose=1)\n",
        "predicted2 = np.argmax(pred2, axis=1)\n",
        "report2 = classification_report(np.argmax(y_test2, axis=1), predicted2)\n",
        "print(report2)"
      ],
      "metadata": {
        "colab": {
          "base_uri": "https://localhost:8080/"
        },
        "id": "Xki2FxjdMvyA",
        "outputId": "524e6a6e-7409-46a9-dd8b-34982e5b6e1d"
      },
      "execution_count": 331,
      "outputs": [
        {
          "output_type": "stream",
          "name": "stdout",
          "text": [
            "12/12 [==============================] - 0s 4ms/step\n",
            "              precision    recall  f1-score   support\n",
            "\n",
            "           1       1.00      1.00      1.00      1159\n",
            "\n",
            "    accuracy                           1.00      1159\n",
            "   macro avg       1.00      1.00      1.00      1159\n",
            "weighted avg       1.00      1.00      1.00      1159\n",
            "\n"
          ]
        }
      ]
    },
    {
      "cell_type": "code",
      "source": [
        "# list all data in history\n",
        "print(history2.history.keys())\n",
        "# summarize history for accuracy\n",
        "plt.plot(history2.history['accuracy'])\n",
        "plt.title('model accuracy')\n",
        "plt.ylabel('accuracy')\n",
        "plt.xlabel('epoch')\n",
        "plt.legend(['train', 'test'], loc='upper left')\n",
        "plt.show()\n",
        "# summarize history for loss\n",
        "plt.plot(history2.history['loss'])\n",
        "plt.title('model loss')\n",
        "plt.ylabel('loss')\n",
        "plt.xlabel('epoch')\n",
        "plt.legend(['train', 'test'], loc='upper left')\n",
        "plt.show()"
      ],
      "metadata": {
        "colab": {
          "base_uri": "https://localhost:8080/",
          "height": 591
        },
        "id": "5eSQ5FPpLo6a",
        "outputId": "2d5a27ab-22b5-4766-c153-74e7971dd4a8"
      },
      "execution_count": 332,
      "outputs": [
        {
          "output_type": "stream",
          "name": "stdout",
          "text": [
            "dict_keys(['loss', 'accuracy'])\n"
          ]
        },
        {
          "output_type": "display_data",
          "data": {
            "image/png": "[encoded data removed]",
            "text/plain": [
              "<Figure size 432x288 with 1 Axes>"
            ]
          },
          "metadata": {
            "needs_background": "light"
          }
        },
        {
          "output_type": "display_data",
          "data": {
            "image/png": "[encoded data removed]",
            "text/plain": [
              "<Figure size 432x288 with 1 Axes>"
            ]
          },
          "metadata": {
            "needs_background": "light"
          }
        }
      ]
    },
    {
      "cell_type": "markdown",
      "source": [
        "##One Hot Encoding with CNN"
      ],
      "metadata": {
        "id": "KSTugSL55GQr"
      }
    },
    {
      "cell_type": "code",
      "source": [
        "X3 = df.iloc[:, 0].values\n",
        "y3 = df.iloc[:, 1].values"
      ],
      "metadata": {
        "id": "umW697MV6Emn"
      },
      "execution_count": 333,
      "outputs": []
    },
    {
      "cell_type": "code",
      "source": [
        "X3 = pd.get_dummies(X3)\n",
        "y3 = pd.get_dummies(y3)"
      ],
      "metadata": {
        "id": "AvqnUcHb5F-m"
      },
      "execution_count": 334,
      "outputs": []
    },
    {
      "cell_type": "code",
      "source": [
        "random.seed(170204048)"
      ],
      "metadata": {
        "id": "A1B4vygnLLVT"
      },
      "execution_count": 335,
      "outputs": []
    },
    {
      "cell_type": "code",
      "source": [
        "from sklearn.model_selection import train_test_split\n",
        "X_train3, X_test3, y_train3, y_test3 = train_test_split(X3, y3, test_size = 0.2, random_state = 0)"
      ],
      "metadata": {
        "id": "MbIjmmoc7lbT"
      },
      "execution_count": 336,
      "outputs": []
    },
    {
      "cell_type": "code",
      "source": [
        "from sklearn.preprocessing import StandardScaler\n",
        "sc = StandardScaler()\n",
        "X_train3 = sc.fit_transform(X_train3)\n",
        "X_test3 = sc.transform(X_test3)\n",
        "y_train3 = sc.fit_transform(y_train3)\n",
        "y_test3 = sc.fit_transform(y_test3)"
      ],
      "metadata": {
        "id": "fNX77n-V7QCA"
      },
      "execution_count": 337,
      "outputs": []
    },
    {
      "cell_type": "code",
      "source": [
        "X_train3 = np.expand_dims(X_train3, axis=2)"
      ],
      "metadata": {
        "id": "-frop_VW6Plf"
      },
      "execution_count": 338,
      "outputs": []
    },
    {
      "cell_type": "code",
      "source": [
        "cnn = tf.keras.models.Sequential()\n",
        "cnn.add(tf.keras.layers.Conv1D(100, 4, activation='relu'))\n",
        "cnn.add(tf.keras.layers.Flatten())\n",
        "cnn.add(tf.keras.layers.Dense(units=2,activation='softmax'))\n",
        "cnn.compile(optimizer = 'adam', loss = 'binary_crossentropy', metrics = ['accuracy'])\n",
        "history3 = cnn.fit(X_train3,y_train3,epochs = 5,batch_size=100)"
      ],
      "metadata": {
        "colab": {
          "base_uri": "https://localhost:8080/"
        },
        "id": "48Ltk5hJ6SxJ",
        "outputId": "a16f4463-cc53-43ea-eacf-1f1a714a48c3"
      },
      "execution_count": 339,
      "outputs": [
        {
          "output_type": "stream",
          "name": "stdout",
          "text": [
            "Epoch 1/5\n",
            "47/47 [==============================] - 22s 445ms/step - loss: -0.1789 - accuracy: 0.6289\n",
            "Epoch 2/5\n",
            "47/47 [==============================] - 21s 443ms/step - loss: -8.9427 - accuracy: 0.9039\n",
            "Epoch 3/5\n",
            "47/47 [==============================] - 22s 463ms/step - loss: -31.5780 - accuracy: 0.8864\n",
            "Epoch 4/5\n",
            "47/47 [==============================] - 21s 444ms/step - loss: -73.1200 - accuracy: 0.9437\n",
            "Epoch 5/5\n",
            "47/47 [==============================] - 21s 444ms/step - loss: -134.6799 - accuracy: 0.9497\n"
          ]
        }
      ]
    },
    {
      "cell_type": "code",
      "source": [
        "print(\"Evaluate on test data\")\n",
        "results = cnn.evaluate(X_test3, y_test3, batch_size=100)\n",
        "print(\"test loss, test acc:\", results)"
      ],
      "metadata": {
        "colab": {
          "base_uri": "https://localhost:8080/"
        },
        "id": "XgsKrr3TFxvp",
        "outputId": "7ee5261b-200e-4297-cf5b-8257aac4e5d4"
      },
      "execution_count": 340,
      "outputs": [
        {
          "output_type": "stream",
          "name": "stdout",
          "text": [
            "Evaluate on test data\n",
            "12/12 [==============================] - 2s 147ms/step - loss: -0.5563 - accuracy: 0.6402\n",
            "test loss, test acc: [-0.5563010573387146, 0.640207052230835]\n"
          ]
        }
      ]
    },
    {
      "cell_type": "code",
      "source": [
        "from sklearn.metrics import classification_report\n",
        "pred3 = cnn.predict(X_test3, batch_size=100, verbose=1)\n",
        "predicted3 = np.argmax(pred3, axis=1)\n",
        "report3 = classification_report(np.argmax(y_test3, axis=1), predicted3)\n",
        "print(report3)"
      ],
      "metadata": {
        "colab": {
          "base_uri": "https://localhost:8080/"
        },
        "id": "5_GF2V31M7Jq",
        "outputId": "dcc6c49f-1637-446f-dc2c-4575046c9d63"
      },
      "execution_count": 341,
      "outputs": [
        {
          "output_type": "stream",
          "name": "stdout",
          "text": [
            "12/12 [==============================] - 2s 148ms/step\n",
            "              precision    recall  f1-score   support\n",
            "\n",
            "           0       0.00      0.00      0.00       417\n",
            "           1       0.64      1.00      0.78       742\n",
            "\n",
            "    accuracy                           0.64      1159\n",
            "   macro avg       0.32      0.50      0.39      1159\n",
            "weighted avg       0.41      0.64      0.50      1159\n",
            "\n"
          ]
        },
        {
          "output_type": "stream",
          "name": "stderr",
          "text": [
            "/usr/local/lib/python3.7/dist-packages/sklearn/metrics/_classification.py:1318: UndefinedMetricWarning: Precision and F-score are ill-defined and being set to 0.0 in labels with no predicted samples. Use `zero_division` parameter to control this behavior.\n",
            "  _warn_prf(average, modifier, msg_start, len(result))\n",
            "/usr/local/lib/python3.7/dist-packages/sklearn/metrics/_classification.py:1318: UndefinedMetricWarning: Precision and F-score are ill-defined and being set to 0.0 in labels with no predicted samples. Use `zero_division` parameter to control this behavior.\n",
            "  _warn_prf(average, modifier, msg_start, len(result))\n",
            "/usr/local/lib/python3.7/dist-packages/sklearn/metrics/_classification.py:1318: UndefinedMetricWarning: Precision and F-score are ill-defined and being set to 0.0 in labels with no predicted samples. Use `zero_division` parameter to control this behavior.\n",
            "  _warn_prf(average, modifier, msg_start, len(result))\n"
          ]
        }
      ]
    },
    {
      "cell_type": "code",
      "source": [
        "# list all data in history\n",
        "print(history3.history.keys())\n",
        "# summarize history for accuracy\n",
        "plt.plot(history3.history['accuracy'])\n",
        "plt.title('model accuracy')\n",
        "plt.ylabel('accuracy')\n",
        "plt.xlabel('epoch')\n",
        "plt.legend(['train', 'test'], loc='upper left')\n",
        "plt.show()\n",
        "# summarize history for loss\n",
        "plt.plot(history3.history['loss'])\n",
        "plt.title('model loss')\n",
        "plt.ylabel('loss')\n",
        "plt.xlabel('epoch')\n",
        "plt.legend(['train', 'test'], loc='upper left')\n",
        "plt.show()"
      ],
      "metadata": {
        "colab": {
          "base_uri": "https://localhost:8080/",
          "height": 591
        },
        "id": "6KOy5RR_LzSY",
        "outputId": "22bead90-faaf-48ff-ad9f-5a97a24564c1"
      },
      "execution_count": 342,
      "outputs": [
        {
          "output_type": "stream",
          "name": "stdout",
          "text": [
            "dict_keys(['loss', 'accuracy'])\n"
          ]
        },
        {
          "output_type": "display_data",
          "data": {
            "image/png": "[encoded data removed]",
            "text/plain": [
              "<Figure size 432x288 with 1 Axes>"
            ]
          },
          "metadata": {
            "needs_background": "light"
          }
        },
        {
          "output_type": "display_data",
          "data": {
            "image/png": "[encoded data removed]",
            "text/plain": [
              "<Figure size 432x288 with 1 Axes>"
            ]
          },
          "metadata": {
            "needs_background": "light"
          }
        }
      ]
    }
  ]
}